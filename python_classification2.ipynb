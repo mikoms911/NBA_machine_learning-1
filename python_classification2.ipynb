{
 "cells": [
  {
   "cell_type": "code",
   "execution_count": 1,
   "metadata": {
    "collapsed": true
   },
   "outputs": [],
   "source": [
    "%matplotlib inline\n",
    "pd.options.display.max_columns = 50"
   ]
  },
  {
   "cell_type": "code",
   "execution_count": 2,
   "metadata": {},
   "outputs": [
    {
     "name": "stdout",
     "output_type": "stream",
     "text": [
      "/Users/sinsanghun/nba\n"
     ]
    }
   ],
   "source": [
    "%cd nba"
   ]
  },
  {
   "cell_type": "code",
   "execution_count": 3,
   "metadata": {},
   "outputs": [
    {
     "name": "stdout",
     "output_type": "stream",
     "text": [
      "0001.csv  0304.csv  0607.csv  0910.csv  1213.csv  1516.csv  9899.csv\r\n",
      "0102.csv  0405.csv  0708.csv  1011.csv  1314.csv  1617.csv  9900.csv\r\n",
      "0203.csv  0506.csv  0809.csv  1112.csv  1415.csv  9798.csv\r\n"
     ]
    }
   ],
   "source": [
    "%ls"
   ]
  },
  {
   "cell_type": "markdown",
   "metadata": {},
   "source": [
    "### 20개의 시즌 데이터를 불러와 리스트에 넣는다."
   ]
  },
  {
   "cell_type": "code",
   "execution_count": 4,
   "metadata": {},
   "outputs": [
    {
     "data": {
      "text/plain": [
       "['9798',\n",
       " '9899',\n",
       " '9900',\n",
       " '0001',\n",
       " '0102',\n",
       " '0203',\n",
       " '0304',\n",
       " '0405',\n",
       " '0506',\n",
       " '0607',\n",
       " '0708',\n",
       " '0809',\n",
       " '0910',\n",
       " '1011',\n",
       " '1112',\n",
       " '1213',\n",
       " '1314',\n",
       " '1415',\n",
       " '1516',\n",
       " '1617']"
      ]
     },
     "execution_count": 4,
     "metadata": {},
     "output_type": "execute_result"
    }
   ],
   "source": [
    "year1 = [\"97\", \"98\", \"99\", \"00\", \"01\", \"02\", \"03\", \"04\", \"05\", \"06\", \"07\", \"08\", \"09\", \"10\", \"11\", \"12\", \"13\", \"14\", \"15\", \"16\" ]\n",
    "year2 = [\"98\", \"99\", \"00\", \"01\", \"02\", \"03\", \"04\", \"05\", \"06\", \"07\", \"08\", \"09\", \"10\", \"11\", \"12\", \"13\", \"14\", \"15\", \"16\", \"17\" ]\n",
    "\n",
    "season = []\n",
    "for i in range(20):\n",
    "    season.append(year1[i] + year2[i])\n",
    "    \n",
    "season        "
   ]
  },
  {
   "cell_type": "code",
   "execution_count": 5,
   "metadata": {
    "collapsed": true
   },
   "outputs": [],
   "source": [
    "df = []\n",
    "for i in season:\n",
    "    df.append(pd.read_csv(i+\".csv\"))"
   ]
  },
  {
   "cell_type": "code",
   "execution_count": 6,
   "metadata": {},
   "outputs": [
    {
     "data": {
      "text/html": [
       "<div>\n",
       "<style>\n",
       "    .dataframe thead tr:only-child th {\n",
       "        text-align: right;\n",
       "    }\n",
       "\n",
       "    .dataframe thead th {\n",
       "        text-align: left;\n",
       "    }\n",
       "\n",
       "    .dataframe tbody tr th {\n",
       "        vertical-align: top;\n",
       "    }\n",
       "</style>\n",
       "<table border=\"1\" class=\"dataframe\">\n",
       "  <thead>\n",
       "    <tr style=\"text-align: right;\">\n",
       "      <th></th>\n",
       "      <th>Rk</th>\n",
       "      <th>Player</th>\n",
       "      <th>Pos</th>\n",
       "      <th>Age</th>\n",
       "      <th>Tm</th>\n",
       "      <th>G</th>\n",
       "      <th>GS</th>\n",
       "      <th>MP</th>\n",
       "      <th>FG</th>\n",
       "      <th>FGA</th>\n",
       "      <th>FG%</th>\n",
       "      <th>3P</th>\n",
       "      <th>3PA</th>\n",
       "      <th>3P%</th>\n",
       "      <th>2P</th>\n",
       "      <th>2PA</th>\n",
       "      <th>2P%</th>\n",
       "      <th>eFG%</th>\n",
       "      <th>FT</th>\n",
       "      <th>FTA</th>\n",
       "      <th>FT%</th>\n",
       "      <th>ORB</th>\n",
       "      <th>DRB</th>\n",
       "      <th>TRB</th>\n",
       "      <th>AST</th>\n",
       "      <th>STL</th>\n",
       "      <th>BLK</th>\n",
       "      <th>TOV</th>\n",
       "      <th>PF</th>\n",
       "      <th>PS/G</th>\n",
       "    </tr>\n",
       "  </thead>\n",
       "  <tbody>\n",
       "    <tr>\n",
       "      <th>0</th>\n",
       "      <td>1</td>\n",
       "      <td>Mahmoud Abdul-Rauf\\abdulma02</td>\n",
       "      <td>PG</td>\n",
       "      <td>28</td>\n",
       "      <td>SAC</td>\n",
       "      <td>31</td>\n",
       "      <td>0</td>\n",
       "      <td>17.1</td>\n",
       "      <td>3.3</td>\n",
       "      <td>8.8</td>\n",
       "      <td>0.377</td>\n",
       "      <td>0.2</td>\n",
       "      <td>1.0</td>\n",
       "      <td>0.161</td>\n",
       "      <td>3.2</td>\n",
       "      <td>7.8</td>\n",
       "      <td>0.405</td>\n",
       "      <td>0.386</td>\n",
       "      <td>0.5</td>\n",
       "      <td>0.5</td>\n",
       "      <td>1.000</td>\n",
       "      <td>0.2</td>\n",
       "      <td>1.0</td>\n",
       "      <td>1.2</td>\n",
       "      <td>1.9</td>\n",
       "      <td>0.5</td>\n",
       "      <td>0.0</td>\n",
       "      <td>0.6</td>\n",
       "      <td>1.0</td>\n",
       "      <td>7.3</td>\n",
       "    </tr>\n",
       "    <tr>\n",
       "      <th>1</th>\n",
       "      <td>2</td>\n",
       "      <td>Tariq Abdul-Wahad\\abdulta01</td>\n",
       "      <td>SG</td>\n",
       "      <td>23</td>\n",
       "      <td>SAC</td>\n",
       "      <td>59</td>\n",
       "      <td>16</td>\n",
       "      <td>16.3</td>\n",
       "      <td>2.4</td>\n",
       "      <td>6.1</td>\n",
       "      <td>0.403</td>\n",
       "      <td>0.1</td>\n",
       "      <td>0.3</td>\n",
       "      <td>0.211</td>\n",
       "      <td>2.4</td>\n",
       "      <td>5.7</td>\n",
       "      <td>0.414</td>\n",
       "      <td>0.409</td>\n",
       "      <td>1.4</td>\n",
       "      <td>2.1</td>\n",
       "      <td>0.672</td>\n",
       "      <td>0.7</td>\n",
       "      <td>1.2</td>\n",
       "      <td>2.0</td>\n",
       "      <td>0.9</td>\n",
       "      <td>0.6</td>\n",
       "      <td>0.2</td>\n",
       "      <td>1.1</td>\n",
       "      <td>1.4</td>\n",
       "      <td>6.4</td>\n",
       "    </tr>\n",
       "    <tr>\n",
       "      <th>2</th>\n",
       "      <td>3</td>\n",
       "      <td>Shareef Abdur-Rahim\\abdursh01</td>\n",
       "      <td>SF</td>\n",
       "      <td>21</td>\n",
       "      <td>VAN</td>\n",
       "      <td>82</td>\n",
       "      <td>82</td>\n",
       "      <td>36.0</td>\n",
       "      <td>8.0</td>\n",
       "      <td>16.4</td>\n",
       "      <td>0.485</td>\n",
       "      <td>0.3</td>\n",
       "      <td>0.6</td>\n",
       "      <td>0.412</td>\n",
       "      <td>7.7</td>\n",
       "      <td>15.8</td>\n",
       "      <td>0.488</td>\n",
       "      <td>0.493</td>\n",
       "      <td>6.1</td>\n",
       "      <td>7.8</td>\n",
       "      <td>0.784</td>\n",
       "      <td>2.8</td>\n",
       "      <td>4.3</td>\n",
       "      <td>7.1</td>\n",
       "      <td>2.6</td>\n",
       "      <td>1.1</td>\n",
       "      <td>0.9</td>\n",
       "      <td>3.1</td>\n",
       "      <td>2.5</td>\n",
       "      <td>22.3</td>\n",
       "    </tr>\n",
       "    <tr>\n",
       "      <th>3</th>\n",
       "      <td>4</td>\n",
       "      <td>Cory Alexander\\alexaco01</td>\n",
       "      <td>PG</td>\n",
       "      <td>24</td>\n",
       "      <td>TOT</td>\n",
       "      <td>60</td>\n",
       "      <td>22</td>\n",
       "      <td>21.6</td>\n",
       "      <td>2.9</td>\n",
       "      <td>6.7</td>\n",
       "      <td>0.428</td>\n",
       "      <td>1.1</td>\n",
       "      <td>2.9</td>\n",
       "      <td>0.375</td>\n",
       "      <td>1.8</td>\n",
       "      <td>3.7</td>\n",
       "      <td>0.469</td>\n",
       "      <td>0.510</td>\n",
       "      <td>1.3</td>\n",
       "      <td>1.7</td>\n",
       "      <td>0.784</td>\n",
       "      <td>0.3</td>\n",
       "      <td>2.2</td>\n",
       "      <td>2.4</td>\n",
       "      <td>3.5</td>\n",
       "      <td>1.2</td>\n",
       "      <td>0.2</td>\n",
       "      <td>1.9</td>\n",
       "      <td>1.6</td>\n",
       "      <td>8.1</td>\n",
       "    </tr>\n",
       "    <tr>\n",
       "      <th>4</th>\n",
       "      <td>4</td>\n",
       "      <td>Cory Alexander\\alexaco01</td>\n",
       "      <td>PG</td>\n",
       "      <td>24</td>\n",
       "      <td>SAS</td>\n",
       "      <td>37</td>\n",
       "      <td>3</td>\n",
       "      <td>13.5</td>\n",
       "      <td>1.6</td>\n",
       "      <td>3.9</td>\n",
       "      <td>0.414</td>\n",
       "      <td>0.5</td>\n",
       "      <td>1.7</td>\n",
       "      <td>0.313</td>\n",
       "      <td>1.1</td>\n",
       "      <td>2.2</td>\n",
       "      <td>0.494</td>\n",
       "      <td>0.483</td>\n",
       "      <td>0.7</td>\n",
       "      <td>1.0</td>\n",
       "      <td>0.676</td>\n",
       "      <td>0.2</td>\n",
       "      <td>1.1</td>\n",
       "      <td>1.3</td>\n",
       "      <td>1.9</td>\n",
       "      <td>0.7</td>\n",
       "      <td>0.1</td>\n",
       "      <td>1.3</td>\n",
       "      <td>1.4</td>\n",
       "      <td>4.5</td>\n",
       "    </tr>\n",
       "  </tbody>\n",
       "</table>\n",
       "</div>"
      ],
      "text/plain": [
       "   Rk                         Player Pos  Age   Tm   G  GS    MP   FG   FGA  \\\n",
       "0   1   Mahmoud Abdul-Rauf\\abdulma02  PG   28  SAC  31   0  17.1  3.3   8.8   \n",
       "1   2    Tariq Abdul-Wahad\\abdulta01  SG   23  SAC  59  16  16.3  2.4   6.1   \n",
       "2   3  Shareef Abdur-Rahim\\abdursh01  SF   21  VAN  82  82  36.0  8.0  16.4   \n",
       "3   4       Cory Alexander\\alexaco01  PG   24  TOT  60  22  21.6  2.9   6.7   \n",
       "4   4       Cory Alexander\\alexaco01  PG   24  SAS  37   3  13.5  1.6   3.9   \n",
       "\n",
       "     FG%   3P  3PA    3P%   2P   2PA    2P%   eFG%   FT  FTA    FT%  ORB  DRB  \\\n",
       "0  0.377  0.2  1.0  0.161  3.2   7.8  0.405  0.386  0.5  0.5  1.000  0.2  1.0   \n",
       "1  0.403  0.1  0.3  0.211  2.4   5.7  0.414  0.409  1.4  2.1  0.672  0.7  1.2   \n",
       "2  0.485  0.3  0.6  0.412  7.7  15.8  0.488  0.493  6.1  7.8  0.784  2.8  4.3   \n",
       "3  0.428  1.1  2.9  0.375  1.8   3.7  0.469  0.510  1.3  1.7  0.784  0.3  2.2   \n",
       "4  0.414  0.5  1.7  0.313  1.1   2.2  0.494  0.483  0.7  1.0  0.676  0.2  1.1   \n",
       "\n",
       "   TRB  AST  STL  BLK  TOV   PF  PS/G  \n",
       "0  1.2  1.9  0.5  0.0  0.6  1.0   7.3  \n",
       "1  2.0  0.9  0.6  0.2  1.1  1.4   6.4  \n",
       "2  7.1  2.6  1.1  0.9  3.1  2.5  22.3  \n",
       "3  2.4  3.5  1.2  0.2  1.9  1.6   8.1  \n",
       "4  1.3  1.9  0.7  0.1  1.3  1.4   4.5  "
      ]
     },
     "execution_count": 6,
     "metadata": {},
     "output_type": "execute_result"
    }
   ],
   "source": [
    "df[0].head()"
   ]
  },
  {
   "cell_type": "markdown",
   "metadata": {},
   "source": [
    "----------------"
   ]
  },
  {
   "cell_type": "markdown",
   "metadata": {},
   "source": [
    "### 변수설명 \n",
    "MP : 경기당 출전 시간(분) <br/>\n",
    "3P : 경기당 성공시킨 3점슛 평균 갯수 <br/>\n",
    "3PA : 경기당 3점슛 시도 평균 갯수 <br/>\n",
    "3P% : 3점 성공률 <br/>\n",
    "2P, FT(free throw)도 같은 맥락<br/>\n",
    "eFG% : 3점슛이 2점슛보다 1점 더 가치가 있으므로 그에 해당되는 부분을 조정한 슛 성공률 <br/>\n",
    "TRB : 평균 리바운드 갯수 = ORB(공격리바운드) + DRB(수비리바운드)<br/>\n",
    "AST : 평균 어시스트 갯수 <br/>\n",
    "STL : 평균 스틸 갯수 <br/>\n",
    "BLK : 평균 블락 갯수 <br/>\n",
    "TOV : 평균 턴오버 갯수 <br/>\n",
    "PF : 경기당 평균 파울 갯수 <br/>\n",
    "PS/G : 경기당 평균 득점 <br/>\n"
   ]
  },
  {
   "cell_type": "markdown",
   "metadata": {},
   "source": [
    "### 포지션을 분류를 해보기 위한 작업이므로 이름이나 팀, 나이 같은 관련 없는 변수는 제거한다"
   ]
  },
  {
   "cell_type": "code",
   "execution_count": 7,
   "metadata": {
    "collapsed": true
   },
   "outputs": [],
   "source": [
    "for i in range(20):\n",
    "    df[i] = df[i][[\"Pos\", \"GS\", \"FG\", \"FGA\", \"FG%\", \"3P\", \"3PA\", \"3P%\", \"2P\", \"2PA\", \"2P%\", \"eFG%\", \"FT\", \"FTA\", \"FT%\",\n",
    "          \"ORB\", \"DRB\", \"TRB\", \"AST\", \"STL\", \"BLK\", \"TOV\", \"PF\", \"PS/G\"]]"
   ]
  },
  {
   "cell_type": "markdown",
   "metadata": {},
   "source": [
    "### 20년 동안의 데이터를 합친다"
   ]
  },
  {
   "cell_type": "code",
   "execution_count": 8,
   "metadata": {},
   "outputs": [
    {
     "data": {
      "text/plain": [
       "(10739, 24)"
      ]
     },
     "execution_count": 8,
     "metadata": {},
     "output_type": "execute_result"
    }
   ],
   "source": [
    "temp = df[0]\n",
    "\n",
    "# 9798 ~ 1516 년도 데이터를 train set으로 쓰고 \n",
    "# 1617 데이터를 test set으로 사용하자 \n",
    "\n",
    "for i in range(18):\n",
    "    temp = pd.concat([temp, df[i+1]])\n",
    "    \n",
    "temp.shape"
   ]
  },
  {
   "cell_type": "code",
   "execution_count": 9,
   "metadata": {
    "collapsed": true
   },
   "outputs": [],
   "source": [
    "# index 정렬 \n",
    "position = temp.set_index(np.arange(len(temp)))"
   ]
  },
  {
   "cell_type": "code",
   "execution_count": 10,
   "metadata": {},
   "outputs": [
    {
     "data": {
      "text/html": [
       "<div>\n",
       "<style>\n",
       "    .dataframe thead tr:only-child th {\n",
       "        text-align: right;\n",
       "    }\n",
       "\n",
       "    .dataframe thead th {\n",
       "        text-align: left;\n",
       "    }\n",
       "\n",
       "    .dataframe tbody tr th {\n",
       "        vertical-align: top;\n",
       "    }\n",
       "</style>\n",
       "<table border=\"1\" class=\"dataframe\">\n",
       "  <thead>\n",
       "    <tr style=\"text-align: right;\">\n",
       "      <th></th>\n",
       "      <th>GS</th>\n",
       "      <th>FG</th>\n",
       "      <th>FGA</th>\n",
       "      <th>FG%</th>\n",
       "      <th>3P</th>\n",
       "      <th>3PA</th>\n",
       "      <th>3P%</th>\n",
       "      <th>2P</th>\n",
       "      <th>2PA</th>\n",
       "      <th>2P%</th>\n",
       "      <th>eFG%</th>\n",
       "      <th>FT</th>\n",
       "      <th>FTA</th>\n",
       "      <th>FT%</th>\n",
       "      <th>ORB</th>\n",
       "      <th>DRB</th>\n",
       "      <th>TRB</th>\n",
       "      <th>AST</th>\n",
       "      <th>STL</th>\n",
       "      <th>BLK</th>\n",
       "      <th>TOV</th>\n",
       "      <th>PF</th>\n",
       "      <th>PS/G</th>\n",
       "    </tr>\n",
       "    <tr>\n",
       "      <th>Pos</th>\n",
       "      <th></th>\n",
       "      <th></th>\n",
       "      <th></th>\n",
       "      <th></th>\n",
       "      <th></th>\n",
       "      <th></th>\n",
       "      <th></th>\n",
       "      <th></th>\n",
       "      <th></th>\n",
       "      <th></th>\n",
       "      <th></th>\n",
       "      <th></th>\n",
       "      <th></th>\n",
       "      <th></th>\n",
       "      <th></th>\n",
       "      <th></th>\n",
       "      <th></th>\n",
       "      <th></th>\n",
       "      <th></th>\n",
       "      <th></th>\n",
       "      <th></th>\n",
       "      <th></th>\n",
       "      <th></th>\n",
       "    </tr>\n",
       "  </thead>\n",
       "  <tbody>\n",
       "    <tr>\n",
       "      <th>...</th>\n",
       "      <td>NaN</td>\n",
       "      <td>NaN</td>\n",
       "      <td>NaN</td>\n",
       "      <td>NaN</td>\n",
       "      <td>NaN</td>\n",
       "      <td>NaN</td>\n",
       "      <td>NaN</td>\n",
       "      <td>NaN</td>\n",
       "      <td>NaN</td>\n",
       "      <td>NaN</td>\n",
       "      <td>NaN</td>\n",
       "      <td>NaN</td>\n",
       "      <td>NaN</td>\n",
       "      <td>NaN</td>\n",
       "      <td>NaN</td>\n",
       "      <td>NaN</td>\n",
       "      <td>NaN</td>\n",
       "      <td>NaN</td>\n",
       "      <td>NaN</td>\n",
       "      <td>NaN</td>\n",
       "      <td>NaN</td>\n",
       "      <td>NaN</td>\n",
       "      <td>NaN</td>\n",
       "    </tr>\n",
       "    <tr>\n",
       "      <th>2014 Draft</th>\n",
       "      <td>NaN</td>\n",
       "      <td>NaN</td>\n",
       "      <td>NaN</td>\n",
       "      <td>NaN</td>\n",
       "      <td>NaN</td>\n",
       "      <td>NaN</td>\n",
       "      <td>NaN</td>\n",
       "      <td>NaN</td>\n",
       "      <td>NaN</td>\n",
       "      <td>NaN</td>\n",
       "      <td>NaN</td>\n",
       "      <td>NaN</td>\n",
       "      <td>NaN</td>\n",
       "      <td>NaN</td>\n",
       "      <td>NaN</td>\n",
       "      <td>NaN</td>\n",
       "      <td>NaN</td>\n",
       "      <td>NaN</td>\n",
       "      <td>NaN</td>\n",
       "      <td>NaN</td>\n",
       "      <td>NaN</td>\n",
       "      <td>NaN</td>\n",
       "      <td>NaN</td>\n",
       "    </tr>\n",
       "    <tr>\n",
       "      <th>2014-15</th>\n",
       "      <td>NaN</td>\n",
       "      <td>NaN</td>\n",
       "      <td>NaN</td>\n",
       "      <td>NaN</td>\n",
       "      <td>NaN</td>\n",
       "      <td>NaN</td>\n",
       "      <td>NaN</td>\n",
       "      <td>NaN</td>\n",
       "      <td>NaN</td>\n",
       "      <td>NaN</td>\n",
       "      <td>NaN</td>\n",
       "      <td>NaN</td>\n",
       "      <td>NaN</td>\n",
       "      <td>NaN</td>\n",
       "      <td>NaN</td>\n",
       "      <td>NaN</td>\n",
       "      <td>NaN</td>\n",
       "      <td>NaN</td>\n",
       "      <td>NaN</td>\n",
       "      <td>NaN</td>\n",
       "      <td>NaN</td>\n",
       "      <td>NaN</td>\n",
       "      <td>NaN</td>\n",
       "    </tr>\n",
       "    <tr>\n",
       "      <th>2015 All-Star Game</th>\n",
       "      <td>NaN</td>\n",
       "      <td>NaN</td>\n",
       "      <td>NaN</td>\n",
       "      <td>NaN</td>\n",
       "      <td>NaN</td>\n",
       "      <td>NaN</td>\n",
       "      <td>NaN</td>\n",
       "      <td>NaN</td>\n",
       "      <td>NaN</td>\n",
       "      <td>NaN</td>\n",
       "      <td>NaN</td>\n",
       "      <td>NaN</td>\n",
       "      <td>NaN</td>\n",
       "      <td>NaN</td>\n",
       "      <td>NaN</td>\n",
       "      <td>NaN</td>\n",
       "      <td>NaN</td>\n",
       "      <td>NaN</td>\n",
       "      <td>NaN</td>\n",
       "      <td>NaN</td>\n",
       "      <td>NaN</td>\n",
       "      <td>NaN</td>\n",
       "      <td>NaN</td>\n",
       "    </tr>\n",
       "    <tr>\n",
       "      <th>2015 NBA Playoffs</th>\n",
       "      <td>NaN</td>\n",
       "      <td>NaN</td>\n",
       "      <td>NaN</td>\n",
       "      <td>NaN</td>\n",
       "      <td>NaN</td>\n",
       "      <td>NaN</td>\n",
       "      <td>NaN</td>\n",
       "      <td>NaN</td>\n",
       "      <td>NaN</td>\n",
       "      <td>NaN</td>\n",
       "      <td>NaN</td>\n",
       "      <td>NaN</td>\n",
       "      <td>NaN</td>\n",
       "      <td>NaN</td>\n",
       "      <td>NaN</td>\n",
       "      <td>NaN</td>\n",
       "      <td>NaN</td>\n",
       "      <td>NaN</td>\n",
       "      <td>NaN</td>\n",
       "      <td>NaN</td>\n",
       "      <td>NaN</td>\n",
       "      <td>NaN</td>\n",
       "      <td>NaN</td>\n",
       "    </tr>\n",
       "    <tr>\n",
       "      <th>9:56PM</th>\n",
       "      <td>NaN</td>\n",
       "      <td>NaN</td>\n",
       "      <td>NaN</td>\n",
       "      <td>NaN</td>\n",
       "      <td>NaN</td>\n",
       "      <td>NaN</td>\n",
       "      <td>NaN</td>\n",
       "      <td>NaN</td>\n",
       "      <td>NaN</td>\n",
       "      <td>NaN</td>\n",
       "      <td>NaN</td>\n",
       "      <td>NaN</td>\n",
       "      <td>NaN</td>\n",
       "      <td>NaN</td>\n",
       "      <td>NaN</td>\n",
       "      <td>NaN</td>\n",
       "      <td>NaN</td>\n",
       "      <td>NaN</td>\n",
       "      <td>NaN</td>\n",
       "      <td>NaN</td>\n",
       "      <td>NaN</td>\n",
       "      <td>NaN</td>\n",
       "      <td>NaN</td>\n",
       "    </tr>\n",
       "    <tr>\n",
       "      <th>Active Assists</th>\n",
       "      <td>NaN</td>\n",
       "      <td>NaN</td>\n",
       "      <td>NaN</td>\n",
       "      <td>NaN</td>\n",
       "      <td>NaN</td>\n",
       "      <td>NaN</td>\n",
       "      <td>NaN</td>\n",
       "      <td>NaN</td>\n",
       "      <td>NaN</td>\n",
       "      <td>NaN</td>\n",
       "      <td>NaN</td>\n",
       "      <td>NaN</td>\n",
       "      <td>NaN</td>\n",
       "      <td>NaN</td>\n",
       "      <td>NaN</td>\n",
       "      <td>NaN</td>\n",
       "      <td>NaN</td>\n",
       "      <td>NaN</td>\n",
       "      <td>NaN</td>\n",
       "      <td>NaN</td>\n",
       "      <td>NaN</td>\n",
       "      <td>NaN</td>\n",
       "      <td>NaN</td>\n",
       "    </tr>\n",
       "    <tr>\n",
       "      <th>Charlotte</th>\n",
       "      <td>NaN</td>\n",
       "      <td>NaN</td>\n",
       "      <td>NaN</td>\n",
       "      <td>NaN</td>\n",
       "      <td>NaN</td>\n",
       "      <td>NaN</td>\n",
       "      <td>NaN</td>\n",
       "      <td>NaN</td>\n",
       "      <td>NaN</td>\n",
       "      <td>NaN</td>\n",
       "      <td>NaN</td>\n",
       "      <td>NaN</td>\n",
       "      <td>NaN</td>\n",
       "      <td>NaN</td>\n",
       "      <td>NaN</td>\n",
       "      <td>NaN</td>\n",
       "      <td>NaN</td>\n",
       "      <td>NaN</td>\n",
       "      <td>NaN</td>\n",
       "      <td>NaN</td>\n",
       "      <td>NaN</td>\n",
       "      <td>NaN</td>\n",
       "      <td>NaN</td>\n",
       "    </tr>\n",
       "    <tr>\n",
       "      <th>Dan Crawford</th>\n",
       "      <td>NaN</td>\n",
       "      <td>NaN</td>\n",
       "      <td>NaN</td>\n",
       "      <td>NaN</td>\n",
       "      <td>NaN</td>\n",
       "      <td>NaN</td>\n",
       "      <td>NaN</td>\n",
       "      <td>NaN</td>\n",
       "      <td>NaN</td>\n",
       "      <td>NaN</td>\n",
       "      <td>NaN</td>\n",
       "      <td>NaN</td>\n",
       "      <td>NaN</td>\n",
       "      <td>NaN</td>\n",
       "      <td>NaN</td>\n",
       "      <td>NaN</td>\n",
       "      <td>NaN</td>\n",
       "      <td>NaN</td>\n",
       "      <td>NaN</td>\n",
       "      <td>NaN</td>\n",
       "      <td>NaN</td>\n",
       "      <td>NaN</td>\n",
       "      <td>NaN</td>\n",
       "    </tr>\n",
       "    <tr>\n",
       "      <th>Defensive Player of the Year</th>\n",
       "      <td>NaN</td>\n",
       "      <td>NaN</td>\n",
       "      <td>NaN</td>\n",
       "      <td>NaN</td>\n",
       "      <td>NaN</td>\n",
       "      <td>NaN</td>\n",
       "      <td>NaN</td>\n",
       "      <td>NaN</td>\n",
       "      <td>NaN</td>\n",
       "      <td>NaN</td>\n",
       "      <td>NaN</td>\n",
       "      <td>NaN</td>\n",
       "      <td>NaN</td>\n",
       "      <td>NaN</td>\n",
       "      <td>NaN</td>\n",
       "      <td>NaN</td>\n",
       "      <td>NaN</td>\n",
       "      <td>NaN</td>\n",
       "      <td>NaN</td>\n",
       "      <td>NaN</td>\n",
       "      <td>NaN</td>\n",
       "      <td>NaN</td>\n",
       "      <td>NaN</td>\n",
       "    </tr>\n",
       "    <tr>\n",
       "      <th>Detroit</th>\n",
       "      <td>NaN</td>\n",
       "      <td>NaN</td>\n",
       "      <td>NaN</td>\n",
       "      <td>NaN</td>\n",
       "      <td>NaN</td>\n",
       "      <td>NaN</td>\n",
       "      <td>NaN</td>\n",
       "      <td>NaN</td>\n",
       "      <td>NaN</td>\n",
       "      <td>NaN</td>\n",
       "      <td>NaN</td>\n",
       "      <td>NaN</td>\n",
       "      <td>NaN</td>\n",
       "      <td>NaN</td>\n",
       "      <td>NaN</td>\n",
       "      <td>NaN</td>\n",
       "      <td>NaN</td>\n",
       "      <td>NaN</td>\n",
       "      <td>NaN</td>\n",
       "      <td>NaN</td>\n",
       "      <td>NaN</td>\n",
       "      <td>NaN</td>\n",
       "      <td>NaN</td>\n",
       "    </tr>\n",
       "    <tr>\n",
       "      <th>Feedback</th>\n",
       "      <td>NaN</td>\n",
       "      <td>NaN</td>\n",
       "      <td>NaN</td>\n",
       "      <td>NaN</td>\n",
       "      <td>NaN</td>\n",
       "      <td>NaN</td>\n",
       "      <td>NaN</td>\n",
       "      <td>NaN</td>\n",
       "      <td>NaN</td>\n",
       "      <td>NaN</td>\n",
       "      <td>NaN</td>\n",
       "      <td>NaN</td>\n",
       "      <td>NaN</td>\n",
       "      <td>NaN</td>\n",
       "      <td>NaN</td>\n",
       "      <td>NaN</td>\n",
       "      <td>NaN</td>\n",
       "      <td>NaN</td>\n",
       "      <td>NaN</td>\n",
       "      <td>NaN</td>\n",
       "      <td>NaN</td>\n",
       "      <td>NaN</td>\n",
       "      <td>NaN</td>\n",
       "    </tr>\n",
       "    <tr>\n",
       "      <th>High Schools</th>\n",
       "      <td>NaN</td>\n",
       "      <td>NaN</td>\n",
       "      <td>NaN</td>\n",
       "      <td>NaN</td>\n",
       "      <td>NaN</td>\n",
       "      <td>NaN</td>\n",
       "      <td>NaN</td>\n",
       "      <td>NaN</td>\n",
       "      <td>NaN</td>\n",
       "      <td>NaN</td>\n",
       "      <td>NaN</td>\n",
       "      <td>NaN</td>\n",
       "      <td>NaN</td>\n",
       "      <td>NaN</td>\n",
       "      <td>NaN</td>\n",
       "      <td>NaN</td>\n",
       "      <td>NaN</td>\n",
       "      <td>NaN</td>\n",
       "      <td>NaN</td>\n",
       "      <td>NaN</td>\n",
       "      <td>NaN</td>\n",
       "      <td>NaN</td>\n",
       "      <td>NaN</td>\n",
       "    </tr>\n",
       "    <tr>\n",
       "      <th>Jim O'Brien</th>\n",
       "      <td>NaN</td>\n",
       "      <td>NaN</td>\n",
       "      <td>NaN</td>\n",
       "      <td>NaN</td>\n",
       "      <td>NaN</td>\n",
       "      <td>NaN</td>\n",
       "      <td>NaN</td>\n",
       "      <td>NaN</td>\n",
       "      <td>NaN</td>\n",
       "      <td>NaN</td>\n",
       "      <td>NaN</td>\n",
       "      <td>NaN</td>\n",
       "      <td>NaN</td>\n",
       "      <td>NaN</td>\n",
       "      <td>NaN</td>\n",
       "      <td>NaN</td>\n",
       "      <td>NaN</td>\n",
       "      <td>NaN</td>\n",
       "      <td>NaN</td>\n",
       "      <td>NaN</td>\n",
       "      <td>NaN</td>\n",
       "      <td>NaN</td>\n",
       "      <td>NaN</td>\n",
       "    </tr>\n",
       "    <tr>\n",
       "      <th>K. Malone</th>\n",
       "      <td>NaN</td>\n",
       "      <td>NaN</td>\n",
       "      <td>NaN</td>\n",
       "      <td>NaN</td>\n",
       "      <td>NaN</td>\n",
       "      <td>NaN</td>\n",
       "      <td>NaN</td>\n",
       "      <td>NaN</td>\n",
       "      <td>NaN</td>\n",
       "      <td>NaN</td>\n",
       "      <td>NaN</td>\n",
       "      <td>NaN</td>\n",
       "      <td>NaN</td>\n",
       "      <td>NaN</td>\n",
       "      <td>NaN</td>\n",
       "      <td>NaN</td>\n",
       "      <td>NaN</td>\n",
       "      <td>NaN</td>\n",
       "      <td>NaN</td>\n",
       "      <td>NaN</td>\n",
       "      <td>NaN</td>\n",
       "      <td>NaN</td>\n",
       "      <td>NaN</td>\n",
       "    </tr>\n",
       "    <tr>\n",
       "      <th>L. James</th>\n",
       "      <td>NaN</td>\n",
       "      <td>NaN</td>\n",
       "      <td>NaN</td>\n",
       "      <td>NaN</td>\n",
       "      <td>NaN</td>\n",
       "      <td>NaN</td>\n",
       "      <td>NaN</td>\n",
       "      <td>NaN</td>\n",
       "      <td>NaN</td>\n",
       "      <td>NaN</td>\n",
       "      <td>NaN</td>\n",
       "      <td>NaN</td>\n",
       "      <td>NaN</td>\n",
       "      <td>NaN</td>\n",
       "      <td>NaN</td>\n",
       "      <td>NaN</td>\n",
       "      <td>NaN</td>\n",
       "      <td>NaN</td>\n",
       "      <td>NaN</td>\n",
       "      <td>NaN</td>\n",
       "      <td>NaN</td>\n",
       "      <td>NaN</td>\n",
       "      <td>NaN</td>\n",
       "    </tr>\n",
       "    <tr>\n",
       "      <th>Memphis</th>\n",
       "      <td>NaN</td>\n",
       "      <td>NaN</td>\n",
       "      <td>NaN</td>\n",
       "      <td>NaN</td>\n",
       "      <td>NaN</td>\n",
       "      <td>NaN</td>\n",
       "      <td>NaN</td>\n",
       "      <td>NaN</td>\n",
       "      <td>NaN</td>\n",
       "      <td>NaN</td>\n",
       "      <td>NaN</td>\n",
       "      <td>NaN</td>\n",
       "      <td>NaN</td>\n",
       "      <td>NaN</td>\n",
       "      <td>NaN</td>\n",
       "      <td>NaN</td>\n",
       "      <td>NaN</td>\n",
       "      <td>NaN</td>\n",
       "      <td>NaN</td>\n",
       "      <td>NaN</td>\n",
       "      <td>NaN</td>\n",
       "      <td>NaN</td>\n",
       "      <td>NaN</td>\n",
       "    </tr>\n",
       "    <tr>\n",
       "      <th>New York</th>\n",
       "      <td>NaN</td>\n",
       "      <td>NaN</td>\n",
       "      <td>NaN</td>\n",
       "      <td>NaN</td>\n",
       "      <td>NaN</td>\n",
       "      <td>NaN</td>\n",
       "      <td>NaN</td>\n",
       "      <td>NaN</td>\n",
       "      <td>NaN</td>\n",
       "      <td>NaN</td>\n",
       "      <td>NaN</td>\n",
       "      <td>NaN</td>\n",
       "      <td>NaN</td>\n",
       "      <td>NaN</td>\n",
       "      <td>NaN</td>\n",
       "      <td>NaN</td>\n",
       "      <td>NaN</td>\n",
       "      <td>NaN</td>\n",
       "      <td>NaN</td>\n",
       "      <td>NaN</td>\n",
       "      <td>NaN</td>\n",
       "      <td>NaN</td>\n",
       "      <td>NaN</td>\n",
       "    </tr>\n",
       "    <tr>\n",
       "      <th>Player Comparison Finder</th>\n",
       "      <td>NaN</td>\n",
       "      <td>NaN</td>\n",
       "      <td>NaN</td>\n",
       "      <td>NaN</td>\n",
       "      <td>NaN</td>\n",
       "      <td>NaN</td>\n",
       "      <td>NaN</td>\n",
       "      <td>NaN</td>\n",
       "      <td>NaN</td>\n",
       "      <td>NaN</td>\n",
       "      <td>NaN</td>\n",
       "      <td>NaN</td>\n",
       "      <td>NaN</td>\n",
       "      <td>NaN</td>\n",
       "      <td>NaN</td>\n",
       "      <td>NaN</td>\n",
       "      <td>NaN</td>\n",
       "      <td>NaN</td>\n",
       "      <td>NaN</td>\n",
       "      <td>NaN</td>\n",
       "      <td>NaN</td>\n",
       "      <td>NaN</td>\n",
       "      <td>NaN</td>\n",
       "    </tr>\n",
       "    <tr>\n",
       "      <th>Player Contracts</th>\n",
       "      <td>NaN</td>\n",
       "      <td>NaN</td>\n",
       "      <td>NaN</td>\n",
       "      <td>NaN</td>\n",
       "      <td>NaN</td>\n",
       "      <td>NaN</td>\n",
       "      <td>NaN</td>\n",
       "      <td>NaN</td>\n",
       "      <td>NaN</td>\n",
       "      <td>NaN</td>\n",
       "      <td>NaN</td>\n",
       "      <td>NaN</td>\n",
       "      <td>NaN</td>\n",
       "      <td>NaN</td>\n",
       "      <td>NaN</td>\n",
       "      <td>NaN</td>\n",
       "      <td>NaN</td>\n",
       "      <td>NaN</td>\n",
       "      <td>NaN</td>\n",
       "      <td>NaN</td>\n",
       "      <td>NaN</td>\n",
       "      <td>NaN</td>\n",
       "      <td>NaN</td>\n",
       "    </tr>\n",
       "    <tr>\n",
       "      <th>Sacramento</th>\n",
       "      <td>NaN</td>\n",
       "      <td>NaN</td>\n",
       "      <td>NaN</td>\n",
       "      <td>NaN</td>\n",
       "      <td>NaN</td>\n",
       "      <td>NaN</td>\n",
       "      <td>NaN</td>\n",
       "      <td>NaN</td>\n",
       "      <td>NaN</td>\n",
       "      <td>NaN</td>\n",
       "      <td>NaN</td>\n",
       "      <td>NaN</td>\n",
       "      <td>NaN</td>\n",
       "      <td>NaN</td>\n",
       "      <td>NaN</td>\n",
       "      <td>NaN</td>\n",
       "      <td>NaN</td>\n",
       "      <td>NaN</td>\n",
       "      <td>NaN</td>\n",
       "      <td>NaN</td>\n",
       "      <td>NaN</td>\n",
       "      <td>NaN</td>\n",
       "      <td>NaN</td>\n",
       "    </tr>\n",
       "    <tr>\n",
       "      <th>Seasons</th>\n",
       "      <td>NaN</td>\n",
       "      <td>NaN</td>\n",
       "      <td>NaN</td>\n",
       "      <td>NaN</td>\n",
       "      <td>NaN</td>\n",
       "      <td>NaN</td>\n",
       "      <td>NaN</td>\n",
       "      <td>NaN</td>\n",
       "      <td>NaN</td>\n",
       "      <td>NaN</td>\n",
       "      <td>NaN</td>\n",
       "      <td>NaN</td>\n",
       "      <td>NaN</td>\n",
       "      <td>NaN</td>\n",
       "      <td>NaN</td>\n",
       "      <td>NaN</td>\n",
       "      <td>NaN</td>\n",
       "      <td>NaN</td>\n",
       "      <td>NaN</td>\n",
       "      <td>NaN</td>\n",
       "      <td>NaN</td>\n",
       "      <td>NaN</td>\n",
       "      <td>NaN</td>\n",
       "    </tr>\n",
       "    <tr>\n",
       "      <th>Stan Kasten</th>\n",
       "      <td>NaN</td>\n",
       "      <td>NaN</td>\n",
       "      <td>NaN</td>\n",
       "      <td>NaN</td>\n",
       "      <td>NaN</td>\n",
       "      <td>NaN</td>\n",
       "      <td>NaN</td>\n",
       "      <td>NaN</td>\n",
       "      <td>NaN</td>\n",
       "      <td>NaN</td>\n",
       "      <td>NaN</td>\n",
       "      <td>NaN</td>\n",
       "      <td>NaN</td>\n",
       "      <td>NaN</td>\n",
       "      <td>NaN</td>\n",
       "      <td>NaN</td>\n",
       "      <td>NaN</td>\n",
       "      <td>NaN</td>\n",
       "      <td>NaN</td>\n",
       "      <td>NaN</td>\n",
       "      <td>NaN</td>\n",
       "      <td>NaN</td>\n",
       "      <td>NaN</td>\n",
       "    </tr>\n",
       "    <tr>\n",
       "      <th>Streak Finder</th>\n",
       "      <td>NaN</td>\n",
       "      <td>NaN</td>\n",
       "      <td>NaN</td>\n",
       "      <td>NaN</td>\n",
       "      <td>NaN</td>\n",
       "      <td>NaN</td>\n",
       "      <td>NaN</td>\n",
       "      <td>NaN</td>\n",
       "      <td>NaN</td>\n",
       "      <td>NaN</td>\n",
       "      <td>NaN</td>\n",
       "      <td>NaN</td>\n",
       "      <td>NaN</td>\n",
       "      <td>NaN</td>\n",
       "      <td>NaN</td>\n",
       "      <td>NaN</td>\n",
       "      <td>NaN</td>\n",
       "      <td>NaN</td>\n",
       "      <td>NaN</td>\n",
       "      <td>NaN</td>\n",
       "      <td>NaN</td>\n",
       "      <td>NaN</td>\n",
       "      <td>NaN</td>\n",
       "    </tr>\n",
       "    <tr>\n",
       "      <th>Team Streak Finder</th>\n",
       "      <td>NaN</td>\n",
       "      <td>NaN</td>\n",
       "      <td>NaN</td>\n",
       "      <td>NaN</td>\n",
       "      <td>NaN</td>\n",
       "      <td>NaN</td>\n",
       "      <td>NaN</td>\n",
       "      <td>NaN</td>\n",
       "      <td>NaN</td>\n",
       "      <td>NaN</td>\n",
       "      <td>NaN</td>\n",
       "      <td>NaN</td>\n",
       "      <td>NaN</td>\n",
       "      <td>NaN</td>\n",
       "      <td>NaN</td>\n",
       "      <td>NaN</td>\n",
       "      <td>NaN</td>\n",
       "      <td>NaN</td>\n",
       "      <td>NaN</td>\n",
       "      <td>NaN</td>\n",
       "      <td>NaN</td>\n",
       "      <td>NaN</td>\n",
       "      <td>NaN</td>\n",
       "    </tr>\n",
       "    <tr>\n",
       "      <th>Utah</th>\n",
       "      <td>NaN</td>\n",
       "      <td>NaN</td>\n",
       "      <td>NaN</td>\n",
       "      <td>NaN</td>\n",
       "      <td>NaN</td>\n",
       "      <td>NaN</td>\n",
       "      <td>NaN</td>\n",
       "      <td>NaN</td>\n",
       "      <td>NaN</td>\n",
       "      <td>NaN</td>\n",
       "      <td>NaN</td>\n",
       "      <td>NaN</td>\n",
       "      <td>NaN</td>\n",
       "      <td>NaN</td>\n",
       "      <td>NaN</td>\n",
       "      <td>NaN</td>\n",
       "      <td>NaN</td>\n",
       "      <td>NaN</td>\n",
       "      <td>NaN</td>\n",
       "      <td>NaN</td>\n",
       "      <td>NaN</td>\n",
       "      <td>NaN</td>\n",
       "      <td>NaN</td>\n",
       "    </tr>\n",
       "    <tr>\n",
       "      <th>Years</th>\n",
       "      <td>NaN</td>\n",
       "      <td>NaN</td>\n",
       "      <td>NaN</td>\n",
       "      <td>NaN</td>\n",
       "      <td>NaN</td>\n",
       "      <td>NaN</td>\n",
       "      <td>NaN</td>\n",
       "      <td>NaN</td>\n",
       "      <td>NaN</td>\n",
       "      <td>NaN</td>\n",
       "      <td>NaN</td>\n",
       "      <td>NaN</td>\n",
       "      <td>NaN</td>\n",
       "      <td>NaN</td>\n",
       "      <td>NaN</td>\n",
       "      <td>NaN</td>\n",
       "      <td>NaN</td>\n",
       "      <td>NaN</td>\n",
       "      <td>NaN</td>\n",
       "      <td>NaN</td>\n",
       "      <td>NaN</td>\n",
       "      <td>NaN</td>\n",
       "      <td>NaN</td>\n",
       "    </tr>\n",
       "    <tr>\n",
       "      <th>or Career Blocks Per Game</th>\n",
       "      <td>NaN</td>\n",
       "      <td>NaN</td>\n",
       "      <td>NaN</td>\n",
       "      <td>NaN</td>\n",
       "      <td>NaN</td>\n",
       "      <td>NaN</td>\n",
       "      <td>NaN</td>\n",
       "      <td>NaN</td>\n",
       "      <td>NaN</td>\n",
       "      <td>NaN</td>\n",
       "      <td>NaN</td>\n",
       "      <td>NaN</td>\n",
       "      <td>NaN</td>\n",
       "      <td>NaN</td>\n",
       "      <td>NaN</td>\n",
       "      <td>NaN</td>\n",
       "      <td>NaN</td>\n",
       "      <td>NaN</td>\n",
       "      <td>NaN</td>\n",
       "      <td>NaN</td>\n",
       "      <td>NaN</td>\n",
       "      <td>NaN</td>\n",
       "      <td>NaN</td>\n",
       "    </tr>\n",
       "    <tr>\n",
       "      <th>C</th>\n",
       "      <td>23.222379</td>\n",
       "      <td>2.450823</td>\n",
       "      <td>5.025435</td>\n",
       "      <td>0.469526</td>\n",
       "      <td>0.041749</td>\n",
       "      <td>0.137377</td>\n",
       "      <td>0.137089</td>\n",
       "      <td>2.407757</td>\n",
       "      <td>4.885802</td>\n",
       "      <td>0.473750</td>\n",
       "      <td>0.472836</td>\n",
       "      <td>1.270992</td>\n",
       "      <td>1.912271</td>\n",
       "      <td>0.641324</td>\n",
       "      <td>1.544194</td>\n",
       "      <td>3.128256</td>\n",
       "      <td>4.669958</td>\n",
       "      <td>0.761636</td>\n",
       "      <td>0.412553</td>\n",
       "      <td>0.803902</td>\n",
       "      <td>0.995157</td>\n",
       "      <td>2.146356</td>\n",
       "      <td>6.212506</td>\n",
       "    </tr>\n",
       "    <tr>\n",
       "      <th>C-PF</th>\n",
       "      <td>17.130435</td>\n",
       "      <td>2.017391</td>\n",
       "      <td>4.282609</td>\n",
       "      <td>0.460261</td>\n",
       "      <td>0.043478</td>\n",
       "      <td>0.152174</td>\n",
       "      <td>0.090867</td>\n",
       "      <td>1.969565</td>\n",
       "      <td>4.113043</td>\n",
       "      <td>0.464913</td>\n",
       "      <td>0.463391</td>\n",
       "      <td>1.043478</td>\n",
       "      <td>1.613043</td>\n",
       "      <td>0.638348</td>\n",
       "      <td>1.400000</td>\n",
       "      <td>2.656522</td>\n",
       "      <td>4.047826</td>\n",
       "      <td>0.608696</td>\n",
       "      <td>0.469565</td>\n",
       "      <td>0.665217</td>\n",
       "      <td>0.830435</td>\n",
       "      <td>2.004348</td>\n",
       "      <td>5.108696</td>\n",
       "    </tr>\n",
       "    <tr>\n",
       "      <th>C-SF</th>\n",
       "      <td>2.000000</td>\n",
       "      <td>1.300000</td>\n",
       "      <td>3.000000</td>\n",
       "      <td>0.429000</td>\n",
       "      <td>0.400000</td>\n",
       "      <td>1.100000</td>\n",
       "      <td>0.340000</td>\n",
       "      <td>0.900000</td>\n",
       "      <td>1.900000</td>\n",
       "      <td>0.483000</td>\n",
       "      <td>0.493000</td>\n",
       "      <td>0.900000</td>\n",
       "      <td>1.100000</td>\n",
       "      <td>0.784000</td>\n",
       "      <td>0.600000</td>\n",
       "      <td>1.300000</td>\n",
       "      <td>2.000000</td>\n",
       "      <td>0.600000</td>\n",
       "      <td>0.300000</td>\n",
       "      <td>0.100000</td>\n",
       "      <td>0.600000</td>\n",
       "      <td>1.800000</td>\n",
       "      <td>3.800000</td>\n",
       "    </tr>\n",
       "    <tr>\n",
       "      <th>PF</th>\n",
       "      <td>21.384721</td>\n",
       "      <td>2.914227</td>\n",
       "      <td>6.303019</td>\n",
       "      <td>0.449944</td>\n",
       "      <td>0.257457</td>\n",
       "      <td>0.772278</td>\n",
       "      <td>0.218071</td>\n",
       "      <td>2.656450</td>\n",
       "      <td>5.530055</td>\n",
       "      <td>0.466383</td>\n",
       "      <td>0.468251</td>\n",
       "      <td>1.440210</td>\n",
       "      <td>2.022919</td>\n",
       "      <td>0.688527</td>\n",
       "      <td>1.414135</td>\n",
       "      <td>3.153843</td>\n",
       "      <td>4.566880</td>\n",
       "      <td>1.061665</td>\n",
       "      <td>0.541034</td>\n",
       "      <td>0.512855</td>\n",
       "      <td>1.059515</td>\n",
       "      <td>2.030787</td>\n",
       "      <td>7.524611</td>\n",
       "    </tr>\n",
       "    <tr>\n",
       "      <th>PF-C</th>\n",
       "      <td>16.866667</td>\n",
       "      <td>2.286667</td>\n",
       "      <td>4.953333</td>\n",
       "      <td>0.451400</td>\n",
       "      <td>0.126667</td>\n",
       "      <td>0.380000</td>\n",
       "      <td>0.133600</td>\n",
       "      <td>2.160000</td>\n",
       "      <td>4.546667</td>\n",
       "      <td>0.463600</td>\n",
       "      <td>0.461800</td>\n",
       "      <td>1.013333</td>\n",
       "      <td>1.513333</td>\n",
       "      <td>0.645933</td>\n",
       "      <td>1.513333</td>\n",
       "      <td>3.253333</td>\n",
       "      <td>4.773333</td>\n",
       "      <td>0.913333</td>\n",
       "      <td>0.546667</td>\n",
       "      <td>0.533333</td>\n",
       "      <td>0.993333</td>\n",
       "      <td>2.133333</td>\n",
       "      <td>5.713333</td>\n",
       "    </tr>\n",
       "    <tr>\n",
       "      <th>PF-SF</th>\n",
       "      <td>17.000000</td>\n",
       "      <td>2.429412</td>\n",
       "      <td>5.752941</td>\n",
       "      <td>0.412000</td>\n",
       "      <td>0.564706</td>\n",
       "      <td>1.594118</td>\n",
       "      <td>0.293333</td>\n",
       "      <td>1.870588</td>\n",
       "      <td>4.170588</td>\n",
       "      <td>0.436353</td>\n",
       "      <td>0.451765</td>\n",
       "      <td>1.264706</td>\n",
       "      <td>1.682353</td>\n",
       "      <td>0.718667</td>\n",
       "      <td>0.982353</td>\n",
       "      <td>2.358824</td>\n",
       "      <td>3.341176</td>\n",
       "      <td>0.929412</td>\n",
       "      <td>0.517647</td>\n",
       "      <td>0.364706</td>\n",
       "      <td>0.952941</td>\n",
       "      <td>2.076471</td>\n",
       "      <td>6.652941</td>\n",
       "    </tr>\n",
       "    <tr>\n",
       "      <th>PG</th>\n",
       "      <td>22.004125</td>\n",
       "      <td>2.865765</td>\n",
       "      <td>6.878048</td>\n",
       "      <td>0.400487</td>\n",
       "      <td>0.673602</td>\n",
       "      <td>1.970807</td>\n",
       "      <td>0.307922</td>\n",
       "      <td>2.192805</td>\n",
       "      <td>4.908570</td>\n",
       "      <td>0.429156</td>\n",
       "      <td>0.447467</td>\n",
       "      <td>1.425665</td>\n",
       "      <td>1.799267</td>\n",
       "      <td>0.772949</td>\n",
       "      <td>0.398533</td>\n",
       "      <td>1.671265</td>\n",
       "      <td>2.066774</td>\n",
       "      <td>3.498442</td>\n",
       "      <td>0.795646</td>\n",
       "      <td>0.117094</td>\n",
       "      <td>1.467369</td>\n",
       "      <td>1.598900</td>\n",
       "      <td>7.825069</td>\n",
       "    </tr>\n",
       "    <tr>\n",
       "      <th>PG-SF</th>\n",
       "      <td>64.000000</td>\n",
       "      <td>5.800000</td>\n",
       "      <td>14.400000</td>\n",
       "      <td>0.402000</td>\n",
       "      <td>1.000000</td>\n",
       "      <td>3.100000</td>\n",
       "      <td>0.342000</td>\n",
       "      <td>4.800000</td>\n",
       "      <td>11.400000</td>\n",
       "      <td>0.419000</td>\n",
       "      <td>0.439000</td>\n",
       "      <td>2.800000</td>\n",
       "      <td>3.500000</td>\n",
       "      <td>0.810000</td>\n",
       "      <td>0.500000</td>\n",
       "      <td>3.500000</td>\n",
       "      <td>4.000000</td>\n",
       "      <td>5.000000</td>\n",
       "      <td>0.800000</td>\n",
       "      <td>0.300000</td>\n",
       "      <td>3.200000</td>\n",
       "      <td>2.800000</td>\n",
       "      <td>15.500000</td>\n",
       "    </tr>\n",
       "    <tr>\n",
       "      <th>PG-SG</th>\n",
       "      <td>20.000000</td>\n",
       "      <td>2.960000</td>\n",
       "      <td>7.228000</td>\n",
       "      <td>0.385200</td>\n",
       "      <td>0.744000</td>\n",
       "      <td>2.116000</td>\n",
       "      <td>0.326417</td>\n",
       "      <td>2.208000</td>\n",
       "      <td>5.128000</td>\n",
       "      <td>0.405240</td>\n",
       "      <td>0.433440</td>\n",
       "      <td>1.500000</td>\n",
       "      <td>1.956000</td>\n",
       "      <td>0.728840</td>\n",
       "      <td>0.396000</td>\n",
       "      <td>1.668000</td>\n",
       "      <td>2.072000</td>\n",
       "      <td>2.824000</td>\n",
       "      <td>0.696000</td>\n",
       "      <td>0.116000</td>\n",
       "      <td>1.332000</td>\n",
       "      <td>1.452000</td>\n",
       "      <td>8.152000</td>\n",
       "    </tr>\n",
       "    <tr>\n",
       "      <th>SF</th>\n",
       "      <td>24.236735</td>\n",
       "      <td>3.089031</td>\n",
       "      <td>7.116633</td>\n",
       "      <td>0.418108</td>\n",
       "      <td>0.665765</td>\n",
       "      <td>1.896378</td>\n",
       "      <td>0.309683</td>\n",
       "      <td>2.424133</td>\n",
       "      <td>5.219337</td>\n",
       "      <td>0.448795</td>\n",
       "      <td>0.464912</td>\n",
       "      <td>1.511276</td>\n",
       "      <td>1.983469</td>\n",
       "      <td>0.735043</td>\n",
       "      <td>0.833214</td>\n",
       "      <td>2.474337</td>\n",
       "      <td>3.305816</td>\n",
       "      <td>1.449541</td>\n",
       "      <td>0.681684</td>\n",
       "      <td>0.326582</td>\n",
       "      <td>1.112347</td>\n",
       "      <td>1.759898</td>\n",
       "      <td>8.352551</td>\n",
       "    </tr>\n",
       "    <tr>\n",
       "      <th>SF-PF</th>\n",
       "      <td>24.000000</td>\n",
       "      <td>2.850000</td>\n",
       "      <td>6.468750</td>\n",
       "      <td>0.433000</td>\n",
       "      <td>0.493750</td>\n",
       "      <td>1.468750</td>\n",
       "      <td>0.273600</td>\n",
       "      <td>2.356250</td>\n",
       "      <td>5.000000</td>\n",
       "      <td>0.456062</td>\n",
       "      <td>0.470750</td>\n",
       "      <td>1.418750</td>\n",
       "      <td>1.900000</td>\n",
       "      <td>0.697938</td>\n",
       "      <td>0.968750</td>\n",
       "      <td>2.718750</td>\n",
       "      <td>3.681250</td>\n",
       "      <td>1.256250</td>\n",
       "      <td>0.581250</td>\n",
       "      <td>0.318750</td>\n",
       "      <td>1.118750</td>\n",
       "      <td>2.018750</td>\n",
       "      <td>7.618750</td>\n",
       "    </tr>\n",
       "    <tr>\n",
       "      <th>SF-SG</th>\n",
       "      <td>30.210526</td>\n",
       "      <td>3.605263</td>\n",
       "      <td>8.447368</td>\n",
       "      <td>0.417000</td>\n",
       "      <td>0.700000</td>\n",
       "      <td>2.068421</td>\n",
       "      <td>0.303842</td>\n",
       "      <td>2.915789</td>\n",
       "      <td>6.373684</td>\n",
       "      <td>0.445211</td>\n",
       "      <td>0.461158</td>\n",
       "      <td>2.000000</td>\n",
       "      <td>2.621053</td>\n",
       "      <td>0.749421</td>\n",
       "      <td>0.747368</td>\n",
       "      <td>2.326316</td>\n",
       "      <td>3.078947</td>\n",
       "      <td>1.921053</td>\n",
       "      <td>0.910526</td>\n",
       "      <td>0.347368</td>\n",
       "      <td>1.436842</td>\n",
       "      <td>2.100000</td>\n",
       "      <td>9.921053</td>\n",
       "    </tr>\n",
       "    <tr>\n",
       "      <th>SG</th>\n",
       "      <td>22.481192</td>\n",
       "      <td>3.166927</td>\n",
       "      <td>7.497118</td>\n",
       "      <td>0.407545</td>\n",
       "      <td>0.814704</td>\n",
       "      <td>2.302101</td>\n",
       "      <td>0.320264</td>\n",
       "      <td>2.351783</td>\n",
       "      <td>5.196385</td>\n",
       "      <td>0.439808</td>\n",
       "      <td>0.461223</td>\n",
       "      <td>1.575183</td>\n",
       "      <td>1.990669</td>\n",
       "      <td>0.763491</td>\n",
       "      <td>0.534099</td>\n",
       "      <td>1.904446</td>\n",
       "      <td>2.436541</td>\n",
       "      <td>1.869126</td>\n",
       "      <td>0.714167</td>\n",
       "      <td>0.200147</td>\n",
       "      <td>1.178847</td>\n",
       "      <td>1.612799</td>\n",
       "      <td>8.721544</td>\n",
       "    </tr>\n",
       "    <tr>\n",
       "      <th>SG-PF</th>\n",
       "      <td>43.333333</td>\n",
       "      <td>5.166667</td>\n",
       "      <td>11.866667</td>\n",
       "      <td>0.439333</td>\n",
       "      <td>1.333333</td>\n",
       "      <td>3.833333</td>\n",
       "      <td>0.338667</td>\n",
       "      <td>3.833333</td>\n",
       "      <td>8.000000</td>\n",
       "      <td>0.492667</td>\n",
       "      <td>0.500667</td>\n",
       "      <td>2.800000</td>\n",
       "      <td>3.466667</td>\n",
       "      <td>0.826000</td>\n",
       "      <td>0.766667</td>\n",
       "      <td>3.400000</td>\n",
       "      <td>4.200000</td>\n",
       "      <td>2.600000</td>\n",
       "      <td>1.066667</td>\n",
       "      <td>0.400000</td>\n",
       "      <td>2.000000</td>\n",
       "      <td>2.500000</td>\n",
       "      <td>14.433333</td>\n",
       "    </tr>\n",
       "    <tr>\n",
       "      <th>SG-PG</th>\n",
       "      <td>21.400000</td>\n",
       "      <td>2.995000</td>\n",
       "      <td>7.070000</td>\n",
       "      <td>0.404900</td>\n",
       "      <td>0.645000</td>\n",
       "      <td>1.830000</td>\n",
       "      <td>0.350368</td>\n",
       "      <td>2.355000</td>\n",
       "      <td>5.230000</td>\n",
       "      <td>0.426250</td>\n",
       "      <td>0.452300</td>\n",
       "      <td>1.595000</td>\n",
       "      <td>1.960000</td>\n",
       "      <td>0.818600</td>\n",
       "      <td>0.340000</td>\n",
       "      <td>1.495000</td>\n",
       "      <td>1.815000</td>\n",
       "      <td>2.825000</td>\n",
       "      <td>0.625000</td>\n",
       "      <td>0.090000</td>\n",
       "      <td>1.360000</td>\n",
       "      <td>1.425000</td>\n",
       "      <td>8.230000</td>\n",
       "    </tr>\n",
       "    <tr>\n",
       "      <th>SG-SF</th>\n",
       "      <td>19.809524</td>\n",
       "      <td>2.333333</td>\n",
       "      <td>5.642857</td>\n",
       "      <td>0.400810</td>\n",
       "      <td>0.566667</td>\n",
       "      <td>1.685714</td>\n",
       "      <td>0.319250</td>\n",
       "      <td>1.761905</td>\n",
       "      <td>3.961905</td>\n",
       "      <td>0.422190</td>\n",
       "      <td>0.458905</td>\n",
       "      <td>1.142857</td>\n",
       "      <td>1.523810</td>\n",
       "      <td>0.752800</td>\n",
       "      <td>0.528571</td>\n",
       "      <td>1.657143</td>\n",
       "      <td>2.176190</td>\n",
       "      <td>1.366667</td>\n",
       "      <td>0.600000</td>\n",
       "      <td>0.180952</td>\n",
       "      <td>1.014286</td>\n",
       "      <td>1.461905</td>\n",
       "      <td>6.385714</td>\n",
       "    </tr>\n",
       "  </tbody>\n",
       "</table>\n",
       "</div>"
      ],
      "text/plain": [
       "                                      GS        FG        FGA       FG%  \\\n",
       "Pos                                                                       \n",
       " ...                                 NaN       NaN        NaN       NaN   \n",
       " 2014 Draft                          NaN       NaN        NaN       NaN   \n",
       " 2014-15                             NaN       NaN        NaN       NaN   \n",
       " 2015 All-Star Game                  NaN       NaN        NaN       NaN   \n",
       " 2015 NBA Playoffs                   NaN       NaN        NaN       NaN   \n",
       " 9:56PM                              NaN       NaN        NaN       NaN   \n",
       " Active Assists                      NaN       NaN        NaN       NaN   \n",
       " Charlotte                           NaN       NaN        NaN       NaN   \n",
       " Dan Crawford                        NaN       NaN        NaN       NaN   \n",
       " Defensive Player of the Year        NaN       NaN        NaN       NaN   \n",
       " Detroit                             NaN       NaN        NaN       NaN   \n",
       " Feedback                            NaN       NaN        NaN       NaN   \n",
       " High Schools                        NaN       NaN        NaN       NaN   \n",
       " Jim O'Brien                         NaN       NaN        NaN       NaN   \n",
       " K. Malone                           NaN       NaN        NaN       NaN   \n",
       " L. James                            NaN       NaN        NaN       NaN   \n",
       " Memphis                             NaN       NaN        NaN       NaN   \n",
       " New York                            NaN       NaN        NaN       NaN   \n",
       " Player Comparison Finder            NaN       NaN        NaN       NaN   \n",
       " Player Contracts                    NaN       NaN        NaN       NaN   \n",
       " Sacramento                          NaN       NaN        NaN       NaN   \n",
       " Seasons                             NaN       NaN        NaN       NaN   \n",
       " Stan Kasten                         NaN       NaN        NaN       NaN   \n",
       " Streak Finder                       NaN       NaN        NaN       NaN   \n",
       " Team Streak Finder                  NaN       NaN        NaN       NaN   \n",
       " Utah                                NaN       NaN        NaN       NaN   \n",
       " Years                               NaN       NaN        NaN       NaN   \n",
       " or Career Blocks Per Game           NaN       NaN        NaN       NaN   \n",
       "C                              23.222379  2.450823   5.025435  0.469526   \n",
       "C-PF                           17.130435  2.017391   4.282609  0.460261   \n",
       "C-SF                            2.000000  1.300000   3.000000  0.429000   \n",
       "PF                             21.384721  2.914227   6.303019  0.449944   \n",
       "PF-C                           16.866667  2.286667   4.953333  0.451400   \n",
       "PF-SF                          17.000000  2.429412   5.752941  0.412000   \n",
       "PG                             22.004125  2.865765   6.878048  0.400487   \n",
       "PG-SF                          64.000000  5.800000  14.400000  0.402000   \n",
       "PG-SG                          20.000000  2.960000   7.228000  0.385200   \n",
       "SF                             24.236735  3.089031   7.116633  0.418108   \n",
       "SF-PF                          24.000000  2.850000   6.468750  0.433000   \n",
       "SF-SG                          30.210526  3.605263   8.447368  0.417000   \n",
       "SG                             22.481192  3.166927   7.497118  0.407545   \n",
       "SG-PF                          43.333333  5.166667  11.866667  0.439333   \n",
       "SG-PG                          21.400000  2.995000   7.070000  0.404900   \n",
       "SG-SF                          19.809524  2.333333   5.642857  0.400810   \n",
       "\n",
       "                                     3P       3PA       3P%        2P  \\\n",
       "Pos                                                                     \n",
       " ...                                NaN       NaN       NaN       NaN   \n",
       " 2014 Draft                         NaN       NaN       NaN       NaN   \n",
       " 2014-15                            NaN       NaN       NaN       NaN   \n",
       " 2015 All-Star Game                 NaN       NaN       NaN       NaN   \n",
       " 2015 NBA Playoffs                  NaN       NaN       NaN       NaN   \n",
       " 9:56PM                             NaN       NaN       NaN       NaN   \n",
       " Active Assists                     NaN       NaN       NaN       NaN   \n",
       " Charlotte                          NaN       NaN       NaN       NaN   \n",
       " Dan Crawford                       NaN       NaN       NaN       NaN   \n",
       " Defensive Player of the Year       NaN       NaN       NaN       NaN   \n",
       " Detroit                            NaN       NaN       NaN       NaN   \n",
       " Feedback                           NaN       NaN       NaN       NaN   \n",
       " High Schools                       NaN       NaN       NaN       NaN   \n",
       " Jim O'Brien                        NaN       NaN       NaN       NaN   \n",
       " K. Malone                          NaN       NaN       NaN       NaN   \n",
       " L. James                           NaN       NaN       NaN       NaN   \n",
       " Memphis                            NaN       NaN       NaN       NaN   \n",
       " New York                           NaN       NaN       NaN       NaN   \n",
       " Player Comparison Finder           NaN       NaN       NaN       NaN   \n",
       " Player Contracts                   NaN       NaN       NaN       NaN   \n",
       " Sacramento                         NaN       NaN       NaN       NaN   \n",
       " Seasons                            NaN       NaN       NaN       NaN   \n",
       " Stan Kasten                        NaN       NaN       NaN       NaN   \n",
       " Streak Finder                      NaN       NaN       NaN       NaN   \n",
       " Team Streak Finder                 NaN       NaN       NaN       NaN   \n",
       " Utah                               NaN       NaN       NaN       NaN   \n",
       " Years                              NaN       NaN       NaN       NaN   \n",
       " or Career Blocks Per Game          NaN       NaN       NaN       NaN   \n",
       "C                              0.041749  0.137377  0.137089  2.407757   \n",
       "C-PF                           0.043478  0.152174  0.090867  1.969565   \n",
       "C-SF                           0.400000  1.100000  0.340000  0.900000   \n",
       "PF                             0.257457  0.772278  0.218071  2.656450   \n",
       "PF-C                           0.126667  0.380000  0.133600  2.160000   \n",
       "PF-SF                          0.564706  1.594118  0.293333  1.870588   \n",
       "PG                             0.673602  1.970807  0.307922  2.192805   \n",
       "PG-SF                          1.000000  3.100000  0.342000  4.800000   \n",
       "PG-SG                          0.744000  2.116000  0.326417  2.208000   \n",
       "SF                             0.665765  1.896378  0.309683  2.424133   \n",
       "SF-PF                          0.493750  1.468750  0.273600  2.356250   \n",
       "SF-SG                          0.700000  2.068421  0.303842  2.915789   \n",
       "SG                             0.814704  2.302101  0.320264  2.351783   \n",
       "SG-PF                          1.333333  3.833333  0.338667  3.833333   \n",
       "SG-PG                          0.645000  1.830000  0.350368  2.355000   \n",
       "SG-SF                          0.566667  1.685714  0.319250  1.761905   \n",
       "\n",
       "                                     2PA       2P%      eFG%        FT  \\\n",
       "Pos                                                                      \n",
       " ...                                 NaN       NaN       NaN       NaN   \n",
       " 2014 Draft                          NaN       NaN       NaN       NaN   \n",
       " 2014-15                             NaN       NaN       NaN       NaN   \n",
       " 2015 All-Star Game                  NaN       NaN       NaN       NaN   \n",
       " 2015 NBA Playoffs                   NaN       NaN       NaN       NaN   \n",
       " 9:56PM                              NaN       NaN       NaN       NaN   \n",
       " Active Assists                      NaN       NaN       NaN       NaN   \n",
       " Charlotte                           NaN       NaN       NaN       NaN   \n",
       " Dan Crawford                        NaN       NaN       NaN       NaN   \n",
       " Defensive Player of the Year        NaN       NaN       NaN       NaN   \n",
       " Detroit                             NaN       NaN       NaN       NaN   \n",
       " Feedback                            NaN       NaN       NaN       NaN   \n",
       " High Schools                        NaN       NaN       NaN       NaN   \n",
       " Jim O'Brien                         NaN       NaN       NaN       NaN   \n",
       " K. Malone                           NaN       NaN       NaN       NaN   \n",
       " L. James                            NaN       NaN       NaN       NaN   \n",
       " Memphis                             NaN       NaN       NaN       NaN   \n",
       " New York                            NaN       NaN       NaN       NaN   \n",
       " Player Comparison Finder            NaN       NaN       NaN       NaN   \n",
       " Player Contracts                    NaN       NaN       NaN       NaN   \n",
       " Sacramento                          NaN       NaN       NaN       NaN   \n",
       " Seasons                             NaN       NaN       NaN       NaN   \n",
       " Stan Kasten                         NaN       NaN       NaN       NaN   \n",
       " Streak Finder                       NaN       NaN       NaN       NaN   \n",
       " Team Streak Finder                  NaN       NaN       NaN       NaN   \n",
       " Utah                                NaN       NaN       NaN       NaN   \n",
       " Years                               NaN       NaN       NaN       NaN   \n",
       " or Career Blocks Per Game           NaN       NaN       NaN       NaN   \n",
       "C                               4.885802  0.473750  0.472836  1.270992   \n",
       "C-PF                            4.113043  0.464913  0.463391  1.043478   \n",
       "C-SF                            1.900000  0.483000  0.493000  0.900000   \n",
       "PF                              5.530055  0.466383  0.468251  1.440210   \n",
       "PF-C                            4.546667  0.463600  0.461800  1.013333   \n",
       "PF-SF                           4.170588  0.436353  0.451765  1.264706   \n",
       "PG                              4.908570  0.429156  0.447467  1.425665   \n",
       "PG-SF                          11.400000  0.419000  0.439000  2.800000   \n",
       "PG-SG                           5.128000  0.405240  0.433440  1.500000   \n",
       "SF                              5.219337  0.448795  0.464912  1.511276   \n",
       "SF-PF                           5.000000  0.456062  0.470750  1.418750   \n",
       "SF-SG                           6.373684  0.445211  0.461158  2.000000   \n",
       "SG                              5.196385  0.439808  0.461223  1.575183   \n",
       "SG-PF                           8.000000  0.492667  0.500667  2.800000   \n",
       "SG-PG                           5.230000  0.426250  0.452300  1.595000   \n",
       "SG-SF                           3.961905  0.422190  0.458905  1.142857   \n",
       "\n",
       "                                    FTA       FT%       ORB       DRB  \\\n",
       "Pos                                                                     \n",
       " ...                                NaN       NaN       NaN       NaN   \n",
       " 2014 Draft                         NaN       NaN       NaN       NaN   \n",
       " 2014-15                            NaN       NaN       NaN       NaN   \n",
       " 2015 All-Star Game                 NaN       NaN       NaN       NaN   \n",
       " 2015 NBA Playoffs                  NaN       NaN       NaN       NaN   \n",
       " 9:56PM                             NaN       NaN       NaN       NaN   \n",
       " Active Assists                     NaN       NaN       NaN       NaN   \n",
       " Charlotte                          NaN       NaN       NaN       NaN   \n",
       " Dan Crawford                       NaN       NaN       NaN       NaN   \n",
       " Defensive Player of the Year       NaN       NaN       NaN       NaN   \n",
       " Detroit                            NaN       NaN       NaN       NaN   \n",
       " Feedback                           NaN       NaN       NaN       NaN   \n",
       " High Schools                       NaN       NaN       NaN       NaN   \n",
       " Jim O'Brien                        NaN       NaN       NaN       NaN   \n",
       " K. Malone                          NaN       NaN       NaN       NaN   \n",
       " L. James                           NaN       NaN       NaN       NaN   \n",
       " Memphis                            NaN       NaN       NaN       NaN   \n",
       " New York                           NaN       NaN       NaN       NaN   \n",
       " Player Comparison Finder           NaN       NaN       NaN       NaN   \n",
       " Player Contracts                   NaN       NaN       NaN       NaN   \n",
       " Sacramento                         NaN       NaN       NaN       NaN   \n",
       " Seasons                            NaN       NaN       NaN       NaN   \n",
       " Stan Kasten                        NaN       NaN       NaN       NaN   \n",
       " Streak Finder                      NaN       NaN       NaN       NaN   \n",
       " Team Streak Finder                 NaN       NaN       NaN       NaN   \n",
       " Utah                               NaN       NaN       NaN       NaN   \n",
       " Years                              NaN       NaN       NaN       NaN   \n",
       " or Career Blocks Per Game          NaN       NaN       NaN       NaN   \n",
       "C                              1.912271  0.641324  1.544194  3.128256   \n",
       "C-PF                           1.613043  0.638348  1.400000  2.656522   \n",
       "C-SF                           1.100000  0.784000  0.600000  1.300000   \n",
       "PF                             2.022919  0.688527  1.414135  3.153843   \n",
       "PF-C                           1.513333  0.645933  1.513333  3.253333   \n",
       "PF-SF                          1.682353  0.718667  0.982353  2.358824   \n",
       "PG                             1.799267  0.772949  0.398533  1.671265   \n",
       "PG-SF                          3.500000  0.810000  0.500000  3.500000   \n",
       "PG-SG                          1.956000  0.728840  0.396000  1.668000   \n",
       "SF                             1.983469  0.735043  0.833214  2.474337   \n",
       "SF-PF                          1.900000  0.697938  0.968750  2.718750   \n",
       "SF-SG                          2.621053  0.749421  0.747368  2.326316   \n",
       "SG                             1.990669  0.763491  0.534099  1.904446   \n",
       "SG-PF                          3.466667  0.826000  0.766667  3.400000   \n",
       "SG-PG                          1.960000  0.818600  0.340000  1.495000   \n",
       "SG-SF                          1.523810  0.752800  0.528571  1.657143   \n",
       "\n",
       "                                    TRB       AST       STL       BLK  \\\n",
       "Pos                                                                     \n",
       " ...                                NaN       NaN       NaN       NaN   \n",
       " 2014 Draft                         NaN       NaN       NaN       NaN   \n",
       " 2014-15                            NaN       NaN       NaN       NaN   \n",
       " 2015 All-Star Game                 NaN       NaN       NaN       NaN   \n",
       " 2015 NBA Playoffs                  NaN       NaN       NaN       NaN   \n",
       " 9:56PM                             NaN       NaN       NaN       NaN   \n",
       " Active Assists                     NaN       NaN       NaN       NaN   \n",
       " Charlotte                          NaN       NaN       NaN       NaN   \n",
       " Dan Crawford                       NaN       NaN       NaN       NaN   \n",
       " Defensive Player of the Year       NaN       NaN       NaN       NaN   \n",
       " Detroit                            NaN       NaN       NaN       NaN   \n",
       " Feedback                           NaN       NaN       NaN       NaN   \n",
       " High Schools                       NaN       NaN       NaN       NaN   \n",
       " Jim O'Brien                        NaN       NaN       NaN       NaN   \n",
       " K. Malone                          NaN       NaN       NaN       NaN   \n",
       " L. James                           NaN       NaN       NaN       NaN   \n",
       " Memphis                            NaN       NaN       NaN       NaN   \n",
       " New York                           NaN       NaN       NaN       NaN   \n",
       " Player Comparison Finder           NaN       NaN       NaN       NaN   \n",
       " Player Contracts                   NaN       NaN       NaN       NaN   \n",
       " Sacramento                         NaN       NaN       NaN       NaN   \n",
       " Seasons                            NaN       NaN       NaN       NaN   \n",
       " Stan Kasten                        NaN       NaN       NaN       NaN   \n",
       " Streak Finder                      NaN       NaN       NaN       NaN   \n",
       " Team Streak Finder                 NaN       NaN       NaN       NaN   \n",
       " Utah                               NaN       NaN       NaN       NaN   \n",
       " Years                              NaN       NaN       NaN       NaN   \n",
       " or Career Blocks Per Game          NaN       NaN       NaN       NaN   \n",
       "C                              4.669958  0.761636  0.412553  0.803902   \n",
       "C-PF                           4.047826  0.608696  0.469565  0.665217   \n",
       "C-SF                           2.000000  0.600000  0.300000  0.100000   \n",
       "PF                             4.566880  1.061665  0.541034  0.512855   \n",
       "PF-C                           4.773333  0.913333  0.546667  0.533333   \n",
       "PF-SF                          3.341176  0.929412  0.517647  0.364706   \n",
       "PG                             2.066774  3.498442  0.795646  0.117094   \n",
       "PG-SF                          4.000000  5.000000  0.800000  0.300000   \n",
       "PG-SG                          2.072000  2.824000  0.696000  0.116000   \n",
       "SF                             3.305816  1.449541  0.681684  0.326582   \n",
       "SF-PF                          3.681250  1.256250  0.581250  0.318750   \n",
       "SF-SG                          3.078947  1.921053  0.910526  0.347368   \n",
       "SG                             2.436541  1.869126  0.714167  0.200147   \n",
       "SG-PF                          4.200000  2.600000  1.066667  0.400000   \n",
       "SG-PG                          1.815000  2.825000  0.625000  0.090000   \n",
       "SG-SF                          2.176190  1.366667  0.600000  0.180952   \n",
       "\n",
       "                                    TOV        PF       PS/G  \n",
       "Pos                                                           \n",
       " ...                                NaN       NaN        NaN  \n",
       " 2014 Draft                         NaN       NaN        NaN  \n",
       " 2014-15                            NaN       NaN        NaN  \n",
       " 2015 All-Star Game                 NaN       NaN        NaN  \n",
       " 2015 NBA Playoffs                  NaN       NaN        NaN  \n",
       " 9:56PM                             NaN       NaN        NaN  \n",
       " Active Assists                     NaN       NaN        NaN  \n",
       " Charlotte                          NaN       NaN        NaN  \n",
       " Dan Crawford                       NaN       NaN        NaN  \n",
       " Defensive Player of the Year       NaN       NaN        NaN  \n",
       " Detroit                            NaN       NaN        NaN  \n",
       " Feedback                           NaN       NaN        NaN  \n",
       " High Schools                       NaN       NaN        NaN  \n",
       " Jim O'Brien                        NaN       NaN        NaN  \n",
       " K. Malone                          NaN       NaN        NaN  \n",
       " L. James                           NaN       NaN        NaN  \n",
       " Memphis                            NaN       NaN        NaN  \n",
       " New York                           NaN       NaN        NaN  \n",
       " Player Comparison Finder           NaN       NaN        NaN  \n",
       " Player Contracts                   NaN       NaN        NaN  \n",
       " Sacramento                         NaN       NaN        NaN  \n",
       " Seasons                            NaN       NaN        NaN  \n",
       " Stan Kasten                        NaN       NaN        NaN  \n",
       " Streak Finder                      NaN       NaN        NaN  \n",
       " Team Streak Finder                 NaN       NaN        NaN  \n",
       " Utah                               NaN       NaN        NaN  \n",
       " Years                              NaN       NaN        NaN  \n",
       " or Career Blocks Per Game          NaN       NaN        NaN  \n",
       "C                              0.995157  2.146356   6.212506  \n",
       "C-PF                           0.830435  2.004348   5.108696  \n",
       "C-SF                           0.600000  1.800000   3.800000  \n",
       "PF                             1.059515  2.030787   7.524611  \n",
       "PF-C                           0.993333  2.133333   5.713333  \n",
       "PF-SF                          0.952941  2.076471   6.652941  \n",
       "PG                             1.467369  1.598900   7.825069  \n",
       "PG-SF                          3.200000  2.800000  15.500000  \n",
       "PG-SG                          1.332000  1.452000   8.152000  \n",
       "SF                             1.112347  1.759898   8.352551  \n",
       "SF-PF                          1.118750  2.018750   7.618750  \n",
       "SF-SG                          1.436842  2.100000   9.921053  \n",
       "SG                             1.178847  1.612799   8.721544  \n",
       "SG-PF                          2.000000  2.500000  14.433333  \n",
       "SG-PG                          1.360000  1.425000   8.230000  \n",
       "SG-SF                          1.014286  1.461905   6.385714  "
      ]
     },
     "execution_count": 10,
     "metadata": {},
     "output_type": "execute_result"
    }
   ],
   "source": [
    "position.groupby([\"Pos\"]).mean()"
   ]
  },
  {
   "cell_type": "markdown",
   "metadata": {},
   "source": [
    "### C, PF, SF, SG, PG 를 빼고는 제외한다."
   ]
  },
  {
   "cell_type": "code",
   "execution_count": 11,
   "metadata": {
    "collapsed": true
   },
   "outputs": [],
   "source": [
    "position2 = position[(position[\"Pos\"] == \"C\") | (position[\"Pos\"] == \"PF\") |(position[\"Pos\"] == \"SF\") | (position[\"Pos\"] == \"SG\") |(position[\"Pos\"] == \"PG\")]"
   ]
  },
  {
   "cell_type": "code",
   "execution_count": 12,
   "metadata": {},
   "outputs": [
    {
     "data": {
      "text/html": [
       "<div>\n",
       "<style>\n",
       "    .dataframe thead tr:only-child th {\n",
       "        text-align: right;\n",
       "    }\n",
       "\n",
       "    .dataframe thead th {\n",
       "        text-align: left;\n",
       "    }\n",
       "\n",
       "    .dataframe tbody tr th {\n",
       "        vertical-align: top;\n",
       "    }\n",
       "</style>\n",
       "<table border=\"1\" class=\"dataframe\">\n",
       "  <thead>\n",
       "    <tr style=\"text-align: right;\">\n",
       "      <th></th>\n",
       "      <th>GS</th>\n",
       "      <th>FG</th>\n",
       "      <th>FGA</th>\n",
       "      <th>FG%</th>\n",
       "      <th>3P</th>\n",
       "      <th>3PA</th>\n",
       "      <th>3P%</th>\n",
       "      <th>2P</th>\n",
       "      <th>2PA</th>\n",
       "      <th>2P%</th>\n",
       "      <th>eFG%</th>\n",
       "      <th>FT</th>\n",
       "      <th>FTA</th>\n",
       "      <th>FT%</th>\n",
       "      <th>ORB</th>\n",
       "      <th>DRB</th>\n",
       "      <th>TRB</th>\n",
       "      <th>AST</th>\n",
       "      <th>STL</th>\n",
       "      <th>BLK</th>\n",
       "      <th>TOV</th>\n",
       "      <th>PF</th>\n",
       "      <th>PS/G</th>\n",
       "    </tr>\n",
       "    <tr>\n",
       "      <th>Pos</th>\n",
       "      <th></th>\n",
       "      <th></th>\n",
       "      <th></th>\n",
       "      <th></th>\n",
       "      <th></th>\n",
       "      <th></th>\n",
       "      <th></th>\n",
       "      <th></th>\n",
       "      <th></th>\n",
       "      <th></th>\n",
       "      <th></th>\n",
       "      <th></th>\n",
       "      <th></th>\n",
       "      <th></th>\n",
       "      <th></th>\n",
       "      <th></th>\n",
       "      <th></th>\n",
       "      <th></th>\n",
       "      <th></th>\n",
       "      <th></th>\n",
       "      <th></th>\n",
       "      <th></th>\n",
       "      <th></th>\n",
       "    </tr>\n",
       "  </thead>\n",
       "  <tbody>\n",
       "    <tr>\n",
       "      <th>C</th>\n",
       "      <td>23.222379</td>\n",
       "      <td>2.450823</td>\n",
       "      <td>5.025435</td>\n",
       "      <td>0.469526</td>\n",
       "      <td>0.041749</td>\n",
       "      <td>0.137377</td>\n",
       "      <td>0.137089</td>\n",
       "      <td>2.407757</td>\n",
       "      <td>4.885802</td>\n",
       "      <td>0.473750</td>\n",
       "      <td>0.472836</td>\n",
       "      <td>1.270992</td>\n",
       "      <td>1.912271</td>\n",
       "      <td>0.641324</td>\n",
       "      <td>1.544194</td>\n",
       "      <td>3.128256</td>\n",
       "      <td>4.669958</td>\n",
       "      <td>0.761636</td>\n",
       "      <td>0.412553</td>\n",
       "      <td>0.803902</td>\n",
       "      <td>0.995157</td>\n",
       "      <td>2.146356</td>\n",
       "      <td>6.212506</td>\n",
       "    </tr>\n",
       "    <tr>\n",
       "      <th>PF</th>\n",
       "      <td>21.384721</td>\n",
       "      <td>2.914227</td>\n",
       "      <td>6.303019</td>\n",
       "      <td>0.449944</td>\n",
       "      <td>0.257457</td>\n",
       "      <td>0.772278</td>\n",
       "      <td>0.218071</td>\n",
       "      <td>2.656450</td>\n",
       "      <td>5.530055</td>\n",
       "      <td>0.466383</td>\n",
       "      <td>0.468251</td>\n",
       "      <td>1.440210</td>\n",
       "      <td>2.022919</td>\n",
       "      <td>0.688527</td>\n",
       "      <td>1.414135</td>\n",
       "      <td>3.153843</td>\n",
       "      <td>4.566880</td>\n",
       "      <td>1.061665</td>\n",
       "      <td>0.541034</td>\n",
       "      <td>0.512855</td>\n",
       "      <td>1.059515</td>\n",
       "      <td>2.030787</td>\n",
       "      <td>7.524611</td>\n",
       "    </tr>\n",
       "    <tr>\n",
       "      <th>PG</th>\n",
       "      <td>22.004125</td>\n",
       "      <td>2.865765</td>\n",
       "      <td>6.878048</td>\n",
       "      <td>0.400487</td>\n",
       "      <td>0.673602</td>\n",
       "      <td>1.970807</td>\n",
       "      <td>0.307922</td>\n",
       "      <td>2.192805</td>\n",
       "      <td>4.908570</td>\n",
       "      <td>0.429156</td>\n",
       "      <td>0.447467</td>\n",
       "      <td>1.425665</td>\n",
       "      <td>1.799267</td>\n",
       "      <td>0.772949</td>\n",
       "      <td>0.398533</td>\n",
       "      <td>1.671265</td>\n",
       "      <td>2.066774</td>\n",
       "      <td>3.498442</td>\n",
       "      <td>0.795646</td>\n",
       "      <td>0.117094</td>\n",
       "      <td>1.467369</td>\n",
       "      <td>1.598900</td>\n",
       "      <td>7.825069</td>\n",
       "    </tr>\n",
       "    <tr>\n",
       "      <th>SF</th>\n",
       "      <td>24.236735</td>\n",
       "      <td>3.089031</td>\n",
       "      <td>7.116633</td>\n",
       "      <td>0.418108</td>\n",
       "      <td>0.665765</td>\n",
       "      <td>1.896378</td>\n",
       "      <td>0.309683</td>\n",
       "      <td>2.424133</td>\n",
       "      <td>5.219337</td>\n",
       "      <td>0.448795</td>\n",
       "      <td>0.464912</td>\n",
       "      <td>1.511276</td>\n",
       "      <td>1.983469</td>\n",
       "      <td>0.735043</td>\n",
       "      <td>0.833214</td>\n",
       "      <td>2.474337</td>\n",
       "      <td>3.305816</td>\n",
       "      <td>1.449541</td>\n",
       "      <td>0.681684</td>\n",
       "      <td>0.326582</td>\n",
       "      <td>1.112347</td>\n",
       "      <td>1.759898</td>\n",
       "      <td>8.352551</td>\n",
       "    </tr>\n",
       "    <tr>\n",
       "      <th>SG</th>\n",
       "      <td>22.481192</td>\n",
       "      <td>3.166927</td>\n",
       "      <td>7.497118</td>\n",
       "      <td>0.407545</td>\n",
       "      <td>0.814704</td>\n",
       "      <td>2.302101</td>\n",
       "      <td>0.320264</td>\n",
       "      <td>2.351783</td>\n",
       "      <td>5.196385</td>\n",
       "      <td>0.439808</td>\n",
       "      <td>0.461223</td>\n",
       "      <td>1.575183</td>\n",
       "      <td>1.990669</td>\n",
       "      <td>0.763491</td>\n",
       "      <td>0.534099</td>\n",
       "      <td>1.904446</td>\n",
       "      <td>2.436541</td>\n",
       "      <td>1.869126</td>\n",
       "      <td>0.714167</td>\n",
       "      <td>0.200147</td>\n",
       "      <td>1.178847</td>\n",
       "      <td>1.612799</td>\n",
       "      <td>8.721544</td>\n",
       "    </tr>\n",
       "  </tbody>\n",
       "</table>\n",
       "</div>"
      ],
      "text/plain": [
       "            GS        FG       FGA       FG%        3P       3PA       3P%  \\\n",
       "Pos                                                                          \n",
       "C    23.222379  2.450823  5.025435  0.469526  0.041749  0.137377  0.137089   \n",
       "PF   21.384721  2.914227  6.303019  0.449944  0.257457  0.772278  0.218071   \n",
       "PG   22.004125  2.865765  6.878048  0.400487  0.673602  1.970807  0.307922   \n",
       "SF   24.236735  3.089031  7.116633  0.418108  0.665765  1.896378  0.309683   \n",
       "SG   22.481192  3.166927  7.497118  0.407545  0.814704  2.302101  0.320264   \n",
       "\n",
       "           2P       2PA       2P%      eFG%        FT       FTA       FT%  \\\n",
       "Pos                                                                         \n",
       "C    2.407757  4.885802  0.473750  0.472836  1.270992  1.912271  0.641324   \n",
       "PF   2.656450  5.530055  0.466383  0.468251  1.440210  2.022919  0.688527   \n",
       "PG   2.192805  4.908570  0.429156  0.447467  1.425665  1.799267  0.772949   \n",
       "SF   2.424133  5.219337  0.448795  0.464912  1.511276  1.983469  0.735043   \n",
       "SG   2.351783  5.196385  0.439808  0.461223  1.575183  1.990669  0.763491   \n",
       "\n",
       "          ORB       DRB       TRB       AST       STL       BLK       TOV  \\\n",
       "Pos                                                                         \n",
       "C    1.544194  3.128256  4.669958  0.761636  0.412553  0.803902  0.995157   \n",
       "PF   1.414135  3.153843  4.566880  1.061665  0.541034  0.512855  1.059515   \n",
       "PG   0.398533  1.671265  2.066774  3.498442  0.795646  0.117094  1.467369   \n",
       "SF   0.833214  2.474337  3.305816  1.449541  0.681684  0.326582  1.112347   \n",
       "SG   0.534099  1.904446  2.436541  1.869126  0.714167  0.200147  1.178847   \n",
       "\n",
       "           PF      PS/G  \n",
       "Pos                      \n",
       "C    2.146356  6.212506  \n",
       "PF   2.030787  7.524611  \n",
       "PG   1.598900  7.825069  \n",
       "SF   1.759898  8.352551  \n",
       "SG   1.612799  8.721544  "
      ]
     },
     "execution_count": 12,
     "metadata": {},
     "output_type": "execute_result"
    }
   ],
   "source": [
    "position2.groupby(\"Pos\").mean()"
   ]
  },
  {
   "cell_type": "markdown",
   "metadata": {},
   "source": [
    "### 시각화를 통해 포지션별 기본 스탯 비교"
   ]
  },
  {
   "cell_type": "code",
   "execution_count": 13,
   "metadata": {},
   "outputs": [
    {
     "name": "stderr",
     "output_type": "stream",
     "text": [
      "/Users/sinsanghun/anaconda/envs/ipykernel_py2/lib/python2.7/site-packages/matplotlib/font_manager.py:1297: UserWarning: findfont: Font family [u'nanumgothic'] not found. Falling back to DejaVu Sans\n",
      "  (prop.get_family(), self.defaultFamily[fontext]))\n"
     ]
    },
    {
     "data": {
      "image/png": "[encoded data removed]",
      "text/plain": [
       "<matplotlib.figure.Figure at 0x10a19ac10>"
      ]
     },
     "metadata": {},
     "output_type": "display_data"
    }
   ],
   "source": [
    "plt.figure(dpi=100)\n",
    "sns.barplot(x=\"Pos\", y=\"FG%\", data=position2)\n",
    "plt.show()"
   ]
  },
  {
   "cell_type": "code",
   "execution_count": 14,
   "metadata": {},
   "outputs": [
    {
     "data": {
      "image/png": "[encoded data removed]",
      "text/plain": [
       "<matplotlib.figure.Figure at 0x10a1909d0>"
      ]
     },
     "metadata": {},
     "output_type": "display_data"
    }
   ],
   "source": [
    "plt.figure(dpi=100)\n",
    "sns.barplot(x=\"Pos\", y=\"2P\", data=position2)\n",
    "plt.show()"
   ]
  },
  {
   "cell_type": "code",
   "execution_count": 15,
   "metadata": {},
   "outputs": [
    {
     "data": {
      "image/png": "[encoded data removed]",
      "text/plain": [
       "<matplotlib.figure.Figure at 0x10a19a450>"
      ]
     },
     "metadata": {},
     "output_type": "display_data"
    }
   ],
   "source": [
    "plt.figure(dpi=100)\n",
    "sns.barplot(x=\"Pos\", y=\"3P\", data=position2)\n",
    "plt.show()"
   ]
  },
  {
   "cell_type": "code",
   "execution_count": 16,
   "metadata": {},
   "outputs": [
    {
     "data": {
      "image/png": "[encoded data removed]",
      "text/plain": [
       "<matplotlib.figure.Figure at 0x10a1a45d0>"
      ]
     },
     "metadata": {},
     "output_type": "display_data"
    }
   ],
   "source": [
    "plt.figure(dpi=100)\n",
    "sns.barplot(x=\"Pos\", y=\"TRB\", data=position2)\n",
    "plt.show()"
   ]
  },
  {
   "cell_type": "code",
   "execution_count": 17,
   "metadata": {},
   "outputs": [
    {
     "data": {
      "image/png": "[encoded data removed]",
      "text/plain": [
       "<matplotlib.figure.Figure at 0x10a155590>"
      ]
     },
     "metadata": {},
     "output_type": "display_data"
    }
   ],
   "source": [
    "plt.figure(dpi=100)\n",
    "sns.barplot(x=\"Pos\", y=\"AST\", data=position2)\n",
    "plt.show()"
   ]
  },
  {
   "cell_type": "code",
   "execution_count": 18,
   "metadata": {},
   "outputs": [
    {
     "data": {
      "image/png": "[encoded data removed]",
      "text/plain": [
       "<matplotlib.figure.Figure at 0x10a291890>"
      ]
     },
     "metadata": {},
     "output_type": "display_data"
    }
   ],
   "source": [
    "plt.figure(dpi=100)\n",
    "sns.barplot(x=\"Pos\", y=\"STL\", data=position2)\n",
    "plt.show()"
   ]
  },
  {
   "cell_type": "code",
   "execution_count": 19,
   "metadata": {},
   "outputs": [
    {
     "data": {
      "image/png": "[encoded data removed]",
      "text/plain": [
       "<matplotlib.figure.Figure at 0x10b13f9d0>"
      ]
     },
     "metadata": {},
     "output_type": "display_data"
    }
   ],
   "source": [
    "plt.figure(dpi=100)\n",
    "sns.barplot(x=\"Pos\", y=\"BLK\", data=position2)\n",
    "plt.show()"
   ]
  },
  {
   "cell_type": "code",
   "execution_count": 20,
   "metadata": {},
   "outputs": [
    {
     "data": {
      "image/png": "[encoded data removed]",
      "text/plain": [
       "<matplotlib.figure.Figure at 0x10b2f8610>"
      ]
     },
     "metadata": {},
     "output_type": "display_data"
    }
   ],
   "source": [
    "plt.figure(dpi=100)\n",
    "sns.barplot(x=\"Pos\", y=\"TOV\", data=position2)\n",
    "plt.show()"
   ]
  },
  {
   "cell_type": "code",
   "execution_count": 21,
   "metadata": {},
   "outputs": [
    {
     "data": {
      "image/png": "[encoded data removed]",
      "text/plain": [
       "<matplotlib.figure.Figure at 0x10b4aa610>"
      ]
     },
     "metadata": {},
     "output_type": "display_data"
    }
   ],
   "source": [
    "plt.figure(dpi=100)\n",
    "sns.barplot(x=\"Pos\", y=\"PS/G\", data=position2)\n",
    "plt.show()"
   ]
  },
  {
   "cell_type": "markdown",
   "metadata": {},
   "source": [
    "### null 값 처리 "
   ]
  },
  {
   "cell_type": "markdown",
   "metadata": {},
   "source": [
    "일단은 결측값이 하나라도 있는 row들은 모두 제거한다 "
   ]
  },
  {
   "cell_type": "code",
   "execution_count": 22,
   "metadata": {
    "scrolled": false
   },
   "outputs": [
    {
     "data": {
      "text/plain": [
       "Pos     0\n",
       "GS      0\n",
       "FG      0\n",
       "FGA     0\n",
       "FG%     0\n",
       "3P      0\n",
       "3PA     0\n",
       "3P%     0\n",
       "2P      0\n",
       "2PA     0\n",
       "2P%     0\n",
       "eFG%    0\n",
       "FT      0\n",
       "FTA     0\n",
       "FT%     0\n",
       "ORB     0\n",
       "DRB     0\n",
       "TRB     0\n",
       "AST     0\n",
       "STL     0\n",
       "BLK     0\n",
       "TOV     0\n",
       "PF      0\n",
       "PS/G    0\n",
       "dtype: int64"
      ]
     },
     "execution_count": 22,
     "metadata": {},
     "output_type": "execute_result"
    }
   ],
   "source": [
    "position3 = position2.dropna()\n",
    "position3.isnull().sum()"
   ]
  },
  {
   "cell_type": "code",
   "execution_count": 23,
   "metadata": {
    "collapsed": true
   },
   "outputs": [],
   "source": [
    "dfy = position3[[\"Pos\"]]\n",
    "dfX = position3.iloc[:,1:]"
   ]
  },
  {
   "cell_type": "code",
   "execution_count": 24,
   "metadata": {
    "collapsed": true
   },
   "outputs": [],
   "source": [
    "test = df[19].dropna()"
   ]
  },
  {
   "cell_type": "code",
   "execution_count": 25,
   "metadata": {
    "collapsed": true
   },
   "outputs": [],
   "source": [
    "test = test[(test[\"Pos\"] == \"C\") | (test[\"Pos\"] == \"PF\") \\\n",
    "                     |(test[\"Pos\"] == \"SF\") | (test[\"Pos\"] == \"SG\") |(test[\"Pos\"] == \"PG\")]"
   ]
  },
  {
   "cell_type": "code",
   "execution_count": 26,
   "metadata": {
    "collapsed": true
   },
   "outputs": [],
   "source": [
    "test_y = test[[\"Pos\"]]\n",
    "test_X = test.iloc[:,1:]"
   ]
  },
  {
   "cell_type": "markdown",
   "metadata": {},
   "source": [
    "# 나이브 베이지안(multinomial)"
   ]
  },
  {
   "cell_type": "code",
   "execution_count": 27,
   "metadata": {},
   "outputs": [
    {
     "name": "stderr",
     "output_type": "stream",
     "text": [
      "/Users/sinsanghun/anaconda/envs/ipykernel_py2/lib/python2.7/site-packages/sklearn/utils/validation.py:526: DataConversionWarning: A column-vector y was passed when a 1d array was expected. Please change the shape of y to (n_samples, ), for example using ravel().\n",
      "  y = column_or_1d(y, warn=True)\n"
     ]
    }
   ],
   "source": [
    "from sklearn.naive_bayes import MultinomialNB\n",
    "clf= MultinomialNB().fit(dfX, dfy)"
   ]
  },
  {
   "cell_type": "code",
   "execution_count": 28,
   "metadata": {},
   "outputs": [
    {
     "data": {
      "text/plain": [
       "array(['C', 'PF', 'PG', 'SF', 'SG'],\n",
       "      dtype='|S2')"
      ]
     },
     "execution_count": 28,
     "metadata": {},
     "output_type": "execute_result"
    }
   ],
   "source": [
    "clf.classes_"
   ]
  },
  {
   "cell_type": "code",
   "execution_count": 29,
   "metadata": {},
   "outputs": [
    {
     "data": {
      "text/plain": [
       "array([ 1051.,  1579.,  2042.,  1776.,  1930.])"
      ]
     },
     "execution_count": 29,
     "metadata": {},
     "output_type": "execute_result"
    }
   ],
   "source": [
    "clf.class_count_"
   ]
  },
  {
   "cell_type": "code",
   "execution_count": 30,
   "metadata": {},
   "outputs": [
    {
     "data": {
      "text/plain": [
       "array([[ 0.31988089,  0.60139348,  0.00534023,  0.05997642,  0.01340898]])"
      ]
     },
     "execution_count": 30,
     "metadata": {},
     "output_type": "execute_result"
    }
   ],
   "source": [
    "clf.predict_proba([test_X.iloc[8,:]])"
   ]
  },
  {
   "cell_type": "code",
   "execution_count": 31,
   "metadata": {},
   "outputs": [
    {
     "data": {
      "text/plain": [
       "'PF'"
      ]
     },
     "execution_count": 31,
     "metadata": {},
     "output_type": "execute_result"
    }
   ],
   "source": [
    "test_y.iloc[8,:][\"Pos\"]"
   ]
  },
  {
   "cell_type": "code",
   "execution_count": 32,
   "metadata": {
    "scrolled": true
   },
   "outputs": [
    {
     "data": {
      "text/plain": [
       "array([[ 0.00057995,  0.04771129,  0.29247028,  0.1778003 ,  0.48143819]])"
      ]
     },
     "execution_count": 32,
     "metadata": {},
     "output_type": "execute_result"
    }
   ],
   "source": [
    "clf.predict_proba([test_X.iloc[38,:]])"
   ]
  },
  {
   "cell_type": "code",
   "execution_count": 33,
   "metadata": {},
   "outputs": [
    {
     "data": {
      "text/plain": [
       "'SG'"
      ]
     },
     "execution_count": 33,
     "metadata": {},
     "output_type": "execute_result"
    }
   ],
   "source": [
    "test_y.iloc[38,:][\"Pos\"]"
   ]
  },
  {
   "cell_type": "code",
   "execution_count": 34,
   "metadata": {},
   "outputs": [
    {
     "data": {
      "text/plain": [
       "array([[ 0.00414383,  0.10535058,  0.45641463,  0.13556336,  0.29852759]])"
      ]
     },
     "execution_count": 34,
     "metadata": {},
     "output_type": "execute_result"
    }
   ],
   "source": [
    "clf.predict_proba([test_X.iloc[25, :]])"
   ]
  },
  {
   "cell_type": "code",
   "execution_count": 35,
   "metadata": {},
   "outputs": [
    {
     "data": {
      "text/plain": [
       "'PG'"
      ]
     },
     "execution_count": 35,
     "metadata": {},
     "output_type": "execute_result"
    }
   ],
   "source": [
    "test_y.iloc[25,:][\"Pos\"]"
   ]
  },
  {
   "cell_type": "code",
   "execution_count": 36,
   "metadata": {
    "collapsed": true
   },
   "outputs": [],
   "source": [
    "pred = []\n",
    "pos = [\"C\", \"PF\", \"PG\", \"SF\", \"SG\"]\n",
    "for i in range(len(test_X)):\n",
    "    pred.append(pos[clf.predict_proba([test_X.iloc[i, :]]).argmax()])"
   ]
  },
  {
   "cell_type": "code",
   "execution_count": 37,
   "metadata": {},
   "outputs": [
    {
     "data": {
      "text/plain": [
       "array([[23, 40,  0,  7,  4],\n",
       "       [13, 38,  0, 33, 24],\n",
       "       [ 0,  1, 77,  3, 34],\n",
       "       [ 4,  8,  3, 40, 57],\n",
       "       [ 1,  6, 11, 24, 79]])"
      ]
     },
     "execution_count": 37,
     "metadata": {},
     "output_type": "execute_result"
    }
   ],
   "source": [
    "from sklearn.metrics import confusion_matrix\n",
    "\n",
    "y_true = test_y\n",
    "y_pred = pred\n",
    "confusion_matrix(y_true, y_pred)"
   ]
  },
  {
   "cell_type": "code",
   "execution_count": 38,
   "metadata": {
    "scrolled": true
   },
   "outputs": [
    {
     "name": "stdout",
     "output_type": "stream",
     "text": [
      "             precision    recall  f1-score   support\n",
      "\n",
      "          C       0.56      0.31      0.40        74\n",
      "         PF       0.41      0.35      0.38       108\n",
      "         PG       0.85      0.67      0.75       115\n",
      "         SF       0.37      0.36      0.37       112\n",
      "         SG       0.40      0.65      0.50       121\n",
      "\n",
      "avg / total       0.52      0.48      0.49       530\n",
      "\n"
     ]
    }
   ],
   "source": [
    "from sklearn.metrics import *\n",
    "\n",
    "target_names = [\"C\", \"PF\", \"PG\", \"SF\", \"SG\"]\n",
    "print(classification_report(y_true, y_pred, target_names=target_names))"
   ]
  },
  {
   "cell_type": "code",
   "execution_count": 39,
   "metadata": {},
   "outputs": [
    {
     "name": "stdout",
     "output_type": "stream",
     "text": [
      "0.484905660377\n"
     ]
    }
   ],
   "source": [
    "print(accuracy_score(y_true, y_pred))"
   ]
  },
  {
   "cell_type": "markdown",
   "metadata": {},
   "source": [
    "------------------"
   ]
  },
  {
   "cell_type": "markdown",
   "metadata": {},
   "source": [
    "# LDA, QDA"
   ]
  },
  {
   "cell_type": "markdown",
   "metadata": {},
   "source": [
    "## LDA"
   ]
  },
  {
   "cell_type": "code",
   "execution_count": 40,
   "metadata": {
    "collapsed": true
   },
   "outputs": [],
   "source": [
    "from sklearn.discriminant_analysis import LinearDiscriminantAnalysis\n",
    "\n",
    "lda = LinearDiscriminantAnalysis(solver=\"svd\", store_covariance=True).fit(dfX, dfy)"
   ]
  },
  {
   "cell_type": "code",
   "execution_count": 41,
   "metadata": {},
   "outputs": [
    {
     "data": {
      "text/plain": [
       "array([[38, 27,  0,  9,  0],\n",
       "       [15, 30,  3, 55,  5],\n",
       "       [ 0,  0, 71,  6, 38],\n",
       "       [ 3,  7,  5, 68, 29],\n",
       "       [ 0,  4, 13, 26, 78]])"
      ]
     },
     "execution_count": 41,
     "metadata": {},
     "output_type": "execute_result"
    }
   ],
   "source": [
    "from sklearn.metrics import confusion_matrix\n",
    "y_true = test_y\n",
    "y_pred = lda.predict(test_X)\n",
    "confusion_matrix(y_true, y_pred)"
   ]
  },
  {
   "cell_type": "code",
   "execution_count": 42,
   "metadata": {},
   "outputs": [
    {
     "name": "stdout",
     "output_type": "stream",
     "text": [
      "             precision    recall  f1-score   support\n",
      "\n",
      "          C       0.68      0.51      0.58        74\n",
      "         PF       0.44      0.28      0.34       108\n",
      "         PG       0.77      0.62      0.69       115\n",
      "         SF       0.41      0.61      0.49       112\n",
      "         SG       0.52      0.64      0.58       121\n",
      "\n",
      "avg / total       0.56      0.54      0.54       530\n",
      "\n"
     ]
    }
   ],
   "source": [
    "from sklearn.metrics import *\n",
    "\n",
    "target_names = [\"C\", \"PF\", \"PG\", \"SF\", \"SG\"]\n",
    "print(classification_report(y_true, y_pred, target_names=target_names))"
   ]
  },
  {
   "cell_type": "code",
   "execution_count": 43,
   "metadata": {},
   "outputs": [
    {
     "name": "stdout",
     "output_type": "stream",
     "text": [
      "0.537735849057\n"
     ]
    }
   ],
   "source": [
    "print(accuracy_score(y_true, y_pred))"
   ]
  },
  {
   "cell_type": "markdown",
   "metadata": {
    "collapsed": true
   },
   "source": [
    "## QDA"
   ]
  },
  {
   "cell_type": "code",
   "execution_count": 44,
   "metadata": {
    "collapsed": true
   },
   "outputs": [],
   "source": [
    "from sklearn.discriminant_analysis import QuadraticDiscriminantAnalysis\n",
    "model = QuadraticDiscriminantAnalysis().fit(dfX, dfy)"
   ]
  },
  {
   "cell_type": "code",
   "execution_count": 45,
   "metadata": {
    "collapsed": true
   },
   "outputs": [],
   "source": [
    "pred = []\n",
    "pos = [\"C\", \"PF\", \"PG\", \"SF\", \"SG\"]\n",
    "for i in range(len(test_X)):\n",
    "    pred.append(pos[model.predict_proba([test_X.iloc[i, :]]).argmax()])"
   ]
  },
  {
   "cell_type": "code",
   "execution_count": 46,
   "metadata": {},
   "outputs": [
    {
     "data": {
      "text/plain": [
       "array([[43, 21,  0,  9,  1],\n",
       "       [20, 27,  2, 39, 20],\n",
       "       [ 1,  0, 77,  4, 33],\n",
       "       [ 2, 12,  5, 44, 49],\n",
       "       [ 2,  1, 18, 23, 77]])"
      ]
     },
     "execution_count": 46,
     "metadata": {},
     "output_type": "execute_result"
    }
   ],
   "source": [
    "from sklearn.metrics import confusion_matrix\n",
    "y_true = test_y\n",
    "y_pred = pred\n",
    "confusion_matrix(y_true, y_pred)"
   ]
  },
  {
   "cell_type": "code",
   "execution_count": 47,
   "metadata": {},
   "outputs": [
    {
     "name": "stdout",
     "output_type": "stream",
     "text": [
      "             precision    recall  f1-score   support\n",
      "\n",
      "          C       0.63      0.58      0.61        74\n",
      "         PF       0.44      0.25      0.32       108\n",
      "         PG       0.75      0.67      0.71       115\n",
      "         SF       0.37      0.39      0.38       112\n",
      "         SG       0.43      0.64      0.51       121\n",
      "\n",
      "avg / total       0.52      0.51      0.50       530\n",
      "\n"
     ]
    }
   ],
   "source": [
    "from sklearn.metrics import *\n",
    "\n",
    "target_names = [\"C\", \"PF\", \"PG\", \"SF\", \"SG\"]\n",
    "print(classification_report(y_true, y_pred, target_names=target_names))"
   ]
  },
  {
   "cell_type": "code",
   "execution_count": 48,
   "metadata": {},
   "outputs": [
    {
     "name": "stdout",
     "output_type": "stream",
     "text": [
      "0.505660377358\n"
     ]
    }
   ],
   "source": [
    "print(accuracy_score(y_true, y_pred))"
   ]
  },
  {
   "cell_type": "markdown",
   "metadata": {},
   "source": [
    "----------------"
   ]
  },
  {
   "cell_type": "markdown",
   "metadata": {},
   "source": [
    "# OvR, OvO"
   ]
  },
  {
   "cell_type": "code",
   "execution_count": 49,
   "metadata": {
    "collapsed": true
   },
   "outputs": [],
   "source": [
    "from sklearn.multiclass import OneVsRestClassifier, OneVsOneClassifier\n",
    "from sklearn.linear_model import LogisticRegression\n",
    "\n",
    "model1 = LogisticRegression().fit(dfX, dfy)\n",
    "model2 = OneVsRestClassifier(LogisticRegression()).fit(dfX, dfy)\n",
    "model3 = OneVsOneClassifier(LogisticRegression()).fit(dfX, dfy)"
   ]
  },
  {
   "cell_type": "code",
   "execution_count": 50,
   "metadata": {
    "collapsed": true,
    "scrolled": true
   },
   "outputs": [],
   "source": [
    "pred = pd.DataFrame(model1.predict(test_X), columns=[\"prediction\"])"
   ]
  },
  {
   "cell_type": "code",
   "execution_count": 51,
   "metadata": {},
   "outputs": [
    {
     "data": {
      "text/plain": [
       "array([[39, 28,  0,  7,  0],\n",
       "       [13, 38,  2, 46,  9],\n",
       "       [ 0,  0, 93,  4, 18],\n",
       "       [ 3, 16,  4, 46, 43],\n",
       "       [ 0,  6, 15, 26, 74]])"
      ]
     },
     "execution_count": 51,
     "metadata": {},
     "output_type": "execute_result"
    }
   ],
   "source": [
    "from sklearn.metrics import confusion_matrix\n",
    "y_true = test_y\n",
    "y_pred = pred\n",
    "confusion_matrix(y_true, y_pred)"
   ]
  },
  {
   "cell_type": "code",
   "execution_count": 52,
   "metadata": {},
   "outputs": [
    {
     "name": "stdout",
     "output_type": "stream",
     "text": [
      "             precision    recall  f1-score   support\n",
      "\n",
      "          C       0.71      0.53      0.60        74\n",
      "         PF       0.43      0.35      0.39       108\n",
      "         PG       0.82      0.81      0.81       115\n",
      "         SF       0.36      0.41      0.38       112\n",
      "         SG       0.51      0.61      0.56       121\n",
      "\n",
      "avg / total       0.56      0.55      0.55       530\n",
      "\n"
     ]
    }
   ],
   "source": [
    "from sklearn.metrics import *\n",
    "\n",
    "target_names = [\"C\", \"PF\", \"PG\", \"SF\", \"SG\"]\n",
    "print(classification_report(y_true, y_pred, target_names=target_names))"
   ]
  },
  {
   "cell_type": "code",
   "execution_count": 53,
   "metadata": {},
   "outputs": [
    {
     "name": "stdout",
     "output_type": "stream",
     "text": [
      "0.547169811321\n"
     ]
    }
   ],
   "source": [
    "print(accuracy_score(y_true, y_pred))"
   ]
  },
  {
   "cell_type": "markdown",
   "metadata": {},
   "source": [
    "## OvR "
   ]
  },
  {
   "cell_type": "code",
   "execution_count": 54,
   "metadata": {
    "collapsed": true
   },
   "outputs": [],
   "source": [
    "pred = pd.DataFrame(model2.predict(test_X), columns=[\"prediction\"])"
   ]
  },
  {
   "cell_type": "code",
   "execution_count": 55,
   "metadata": {},
   "outputs": [
    {
     "data": {
      "text/plain": [
       "array([[39, 28,  0,  7,  0],\n",
       "       [13, 38,  2, 46,  9],\n",
       "       [ 0,  0, 91,  4, 20],\n",
       "       [ 3, 16,  4, 46, 43],\n",
       "       [ 0,  6, 15, 26, 74]])"
      ]
     },
     "execution_count": 55,
     "metadata": {},
     "output_type": "execute_result"
    }
   ],
   "source": [
    "from sklearn.metrics import confusion_matrix\n",
    "y_true = test_y\n",
    "y_pred = pred\n",
    "confusion_matrix(y_true, y_pred)"
   ]
  },
  {
   "cell_type": "code",
   "execution_count": 56,
   "metadata": {},
   "outputs": [
    {
     "name": "stdout",
     "output_type": "stream",
     "text": [
      "             precision    recall  f1-score   support\n",
      "\n",
      "          C       0.71      0.53      0.60        74\n",
      "         PF       0.43      0.35      0.39       108\n",
      "         PG       0.81      0.79      0.80       115\n",
      "         SF       0.36      0.41      0.38       112\n",
      "         SG       0.51      0.61      0.55       121\n",
      "\n",
      "avg / total       0.55      0.54      0.54       530\n",
      "\n"
     ]
    }
   ],
   "source": [
    "from sklearn.metrics import *\n",
    "\n",
    "target_names = [\"C\", \"PF\", \"PG\", \"SF\", \"SG\"]\n",
    "print(classification_report(y_true, y_pred, target_names=target_names))"
   ]
  },
  {
   "cell_type": "code",
   "execution_count": 57,
   "metadata": {},
   "outputs": [
    {
     "name": "stdout",
     "output_type": "stream",
     "text": [
      "0.543396226415\n"
     ]
    }
   ],
   "source": [
    "print(accuracy_score(y_true, y_pred))"
   ]
  },
  {
   "cell_type": "markdown",
   "metadata": {},
   "source": [
    "## OvO"
   ]
  },
  {
   "cell_type": "code",
   "execution_count": 58,
   "metadata": {
    "collapsed": true
   },
   "outputs": [],
   "source": [
    "pred = pd.DataFrame(model3.predict(test_X), columns=[\"prediction\"])"
   ]
  },
  {
   "cell_type": "code",
   "execution_count": 59,
   "metadata": {},
   "outputs": [
    {
     "data": {
      "text/plain": [
       "array([[37, 31,  0,  6,  0],\n",
       "       [ 9, 55,  1, 40,  3],\n",
       "       [ 0,  0, 82,  4, 29],\n",
       "       [ 2, 21,  0, 57, 32],\n",
       "       [ 0,  5, 12, 26, 78]])"
      ]
     },
     "execution_count": 59,
     "metadata": {},
     "output_type": "execute_result"
    }
   ],
   "source": [
    "from sklearn.metrics import confusion_matrix\n",
    "y_true = test_y\n",
    "y_pred = pred\n",
    "confusion_matrix(y_true, y_pred)"
   ]
  },
  {
   "cell_type": "code",
   "execution_count": 60,
   "metadata": {},
   "outputs": [
    {
     "name": "stdout",
     "output_type": "stream",
     "text": [
      "             precision    recall  f1-score   support\n",
      "\n",
      "          C       0.77      0.50      0.61        74\n",
      "         PF       0.49      0.51      0.50       108\n",
      "         PG       0.86      0.71      0.78       115\n",
      "         SF       0.43      0.51      0.47       112\n",
      "         SG       0.55      0.64      0.59       121\n",
      "\n",
      "avg / total       0.61      0.58      0.59       530\n",
      "\n"
     ]
    }
   ],
   "source": [
    "from sklearn.metrics import *\n",
    "\n",
    "target_names = [\"C\", \"PF\", \"PG\", \"SF\", \"SG\"]\n",
    "print(classification_report(y_true, y_pred, target_names=target_names))"
   ]
  },
  {
   "cell_type": "code",
   "execution_count": 61,
   "metadata": {},
   "outputs": [
    {
     "name": "stdout",
     "output_type": "stream",
     "text": [
      "0.583018867925\n"
     ]
    }
   ],
   "source": [
    "print(accuracy_score(y_true, y_pred))"
   ]
  },
  {
   "cell_type": "markdown",
   "metadata": {},
   "source": [
    "# SVM"
   ]
  },
  {
   "cell_type": "markdown",
   "metadata": {},
   "source": [
    "## 서포트 벡터 머신"
   ]
  },
  {
   "cell_type": "code",
   "execution_count": 62,
   "metadata": {
    "collapsed": true
   },
   "outputs": [],
   "source": [
    "from sklearn.svm import SVC\n",
    "model = SVC(kernel='linear').fit(dfX, dfy)"
   ]
  },
  {
   "cell_type": "code",
   "execution_count": 63,
   "metadata": {},
   "outputs": [
    {
     "data": {
      "text/plain": [
       "array([[35, 33,  0,  6,  0],\n",
       "       [ 6, 55,  1, 44,  2],\n",
       "       [ 0,  0, 79,  4, 32],\n",
       "       [ 1, 19,  1, 59, 32],\n",
       "       [ 0,  4, 12, 27, 78]])"
      ]
     },
     "execution_count": 63,
     "metadata": {},
     "output_type": "execute_result"
    }
   ],
   "source": [
    "from sklearn.metrics import confusion_matrix\n",
    "y_true = test_y\n",
    "y_pred = model.predict(test_X)\n",
    "confusion_matrix(y_true, y_pred)"
   ]
  },
  {
   "cell_type": "code",
   "execution_count": 64,
   "metadata": {},
   "outputs": [
    {
     "name": "stdout",
     "output_type": "stream",
     "text": [
      "             precision    recall  f1-score   support\n",
      "\n",
      "          C       0.83      0.47      0.60        74\n",
      "         PF       0.50      0.51      0.50       108\n",
      "         PG       0.85      0.69      0.76       115\n",
      "         SF       0.42      0.53      0.47       112\n",
      "         SG       0.54      0.64      0.59       121\n",
      "\n",
      "avg / total       0.61      0.58      0.58       530\n",
      "\n"
     ]
    }
   ],
   "source": [
    "from sklearn.metrics import *\n",
    "\n",
    "target_names = [\"C\", \"PF\", \"PG\", \"SF\", \"SG\"]\n",
    "print(classification_report(y_true, y_pred, target_names=target_names))"
   ]
  },
  {
   "cell_type": "code",
   "execution_count": 65,
   "metadata": {},
   "outputs": [
    {
     "name": "stdout",
     "output_type": "stream",
     "text": [
      "0.577358490566\n"
     ]
    }
   ],
   "source": [
    "print(accuracy_score(y_true, y_pred))"
   ]
  },
  {
   "cell_type": "markdown",
   "metadata": {},
   "source": [
    "## 커널 서포트 벡터 머신 "
   ]
  },
  {
   "cell_type": "code",
   "execution_count": null,
   "metadata": {
    "collapsed": true
   },
   "outputs": [],
   "source": [
    "#from sklearn.svm import SVC\n",
    "#model = SVC(kernel='poly', degree=2, gamma=1).fit(dfX, dfy)"
   ]
  },
  {
   "cell_type": "markdown",
   "metadata": {},
   "source": [
    "#### 엥?"
   ]
  },
  {
   "cell_type": "code",
   "execution_count": null,
   "metadata": {
    "collapsed": true
   },
   "outputs": [],
   "source": [
    "from sklearn.svm import SVC\n",
    "model = SVC(kernel='poly', degree=2, gamma=1).fit(dfX, dfy)"
   ]
  },
  {
   "cell_type": "code",
   "execution_count": null,
   "metadata": {
    "collapsed": true
   },
   "outputs": [],
   "source": [
    "from sklearn.metrics import confusion_matrix\n",
    "y_true = test_y\n",
    "y_pred = model.predict(test_X)\n",
    "confusion_matrix(y_true, y_pred)"
   ]
  },
  {
   "cell_type": "code",
   "execution_count": null,
   "metadata": {
    "collapsed": true
   },
   "outputs": [],
   "source": [
    "from sklearn.metrics import *\n",
    "\n",
    "target_names = [\"C\", \"PF\", \"PG\", \"SF\", \"SG\"]\n",
    "print(classification_report(y_true, y_pred, target_names=target_names))"
   ]
  },
  {
   "cell_type": "code",
   "execution_count": null,
   "metadata": {
    "collapsed": true
   },
   "outputs": [],
   "source": [
    "print(accuracy_score(y_true, y_pred))"
   ]
  },
  {
   "cell_type": "code",
   "execution_count": null,
   "metadata": {
    "collapsed": true
   },
   "outputs": [],
   "source": []
  }
 ],
 "metadata": {
  "kernelspec": {
   "display_name": "Python 2",
   "language": "python",
   "name": "python2"
  },
  "language_info": {
   "codemirror_mode": {
    "name": "ipython",
    "version": 2
   },
   "file_extension": ".py",
   "mimetype": "text/x-python",
   "name": "python",
   "nbconvert_exporter": "python",
   "pygments_lexer": "ipython2",
   "version": "2.7.13"
  }
 },
 "nbformat": 4,
 "nbformat_minor": 2
}
